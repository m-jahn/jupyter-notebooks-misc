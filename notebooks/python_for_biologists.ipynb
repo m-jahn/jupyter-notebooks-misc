{
 "cells": [
  {
   "cell_type": "markdown",
   "id": "31157936-6cec-413e-b3a4-15245f234558",
   "metadata": {},
   "source": [
    "# Python for Biologists\n",
    "\n",
    "Exercises for the book written by Dr. Martin Jones.\n",
    "\n",
    "## Chapter 2: Printing and manipulating text\n",
    "\n",
    "Some functions do manipulate the object without assignment and some don't.\n",
    "Text functions like `.lower` and `.replace()` don't manipulate their arguments (here parent object) because **strings and integers are immutable** while **lists are mutable**.\n",
    "\n",
    "A call to `my_list.reverse()` therefore reverses the list without re-assignment."
   ]
  },
  {
   "cell_type": "markdown",
   "id": "d133c285-4485-45be-b127-9c2251e86e6c",
   "metadata": {},
   "source": [
    "### Strings are immutable"
   ]
  },
  {
   "cell_type": "code",
   "execution_count": 1,
   "id": "e2a61aad-eb08-4fbf-ba61-56b5befe6c58",
   "metadata": {},
   "outputs": [
    {
     "data": {
      "text/plain": [
       "'actg'"
      ]
     },
     "execution_count": 1,
     "metadata": {},
     "output_type": "execute_result"
    }
   ],
   "source": [
    "mystring = 'ACTG'\n",
    "mystring.lower()"
   ]
  },
  {
   "cell_type": "code",
   "execution_count": 2,
   "id": "da928d82-207b-4136-a7eb-44cc05406ef5",
   "metadata": {},
   "outputs": [
    {
     "data": {
      "text/plain": [
       "'ACTG'"
      ]
     },
     "execution_count": 2,
     "metadata": {},
     "output_type": "execute_result"
    }
   ],
   "source": [
    "mystring"
   ]
  },
  {
   "cell_type": "code",
   "execution_count": 3,
   "id": "493fb159-fd20-4b62-b2dc-2421d7e51645",
   "metadata": {},
   "outputs": [
    {
     "data": {
      "text/plain": [
       "'TGTG'"
      ]
     },
     "execution_count": 3,
     "metadata": {},
     "output_type": "execute_result"
    }
   ],
   "source": [
    "mystring.replace('AC', 'TG')"
   ]
  },
  {
   "cell_type": "code",
   "execution_count": 4,
   "id": "d53198df-4f68-463c-9cc1-59013633c5c3",
   "metadata": {},
   "outputs": [
    {
     "data": {
      "text/plain": [
       "'ACTG'"
      ]
     },
     "execution_count": 4,
     "metadata": {},
     "output_type": "execute_result"
    }
   ],
   "source": [
    "mystring"
   ]
  },
  {
   "cell_type": "markdown",
   "id": "d1be44ea-555e-46aa-951f-3208c21b470b",
   "metadata": {},
   "source": [
    "### Exercises\n",
    "\n",
    "Calculating AT content"
   ]
  },
  {
   "cell_type": "code",
   "execution_count": 5,
   "id": "4148a713-324f-418e-9a69-778994c927e8",
   "metadata": {},
   "outputs": [
    {
     "data": {
      "text/plain": [
       "0.7021276595744681"
      ]
     },
     "execution_count": 5,
     "metadata": {},
     "output_type": "execute_result"
    }
   ],
   "source": [
    "seq = 'ACTGATCGAATTCACGTATATATATTTCATATATAGCTAGCTAGCTA'\n",
    "(seq.count('A') + seq.count('T'))/len(seq)"
   ]
  },
  {
   "cell_type": "markdown",
   "id": "bbd4ea3b-76aa-4b6c-bc90-479ef89c6609",
   "metadata": {},
   "source": [
    "Complementing DNA"
   ]
  },
  {
   "cell_type": "code",
   "execution_count": 6,
   "id": "eb4157dd-b849-4802-bd70-ca68d61937dd",
   "metadata": {},
   "outputs": [
    {
     "name": "stdout",
     "output_type": "stream",
     "text": [
      "ACTGATCGAATTCACGTATATATATTTCATATATAGCTAGCTAGCTA\n",
      "TGACTAGCTTAAGTGCATATATATAAAGTATATATCGATCGATCGAT\n"
     ]
    }
   ],
   "source": [
    "new_seq = ''\n",
    "for i in seq:\n",
    "    if i == 'A': new_seq += 'T'\n",
    "    elif i == 'T': new_seq += 'A'\n",
    "    elif i == 'G': new_seq += 'C'\n",
    "    else: new_seq += 'G'\n",
    "print(seq + '\\n' + new_seq)"
   ]
  },
  {
   "cell_type": "markdown",
   "id": "56b2436c-a753-4706-80de-e737c1e28251",
   "metadata": {},
   "source": [
    "Restriction fragment length. Write a program that recognizes the _EcoR1_ restriction site `G*AATTC` and returns length of fragments.\n",
    "Works only with one restriction site, not multiple."
   ]
  },
  {
   "cell_type": "code",
   "execution_count": 7,
   "id": "668bb7c7-1fa9-4011-8bb4-b076fdf23e00",
   "metadata": {},
   "outputs": [
    {
     "name": "stdout",
     "output_type": "stream",
     "text": [
      "total length: 47\n",
      "fragment length: 8, 39\n"
     ]
    }
   ],
   "source": [
    "def restrict(seq, site = 'GAATTC', cut = 1):\n",
    "    # find start pos of seq and calculate fragment lengths\n",
    "    cut_site = seq.find(site) + cut\n",
    "    print('total length: ' + str(len(seq)))\n",
    "    print('fragment length: {0}, {1}'.format(str(cut_site),str(len(seq)-cut_site)))\n",
    "\n",
    "restrict(seq)"
   ]
  },
  {
   "cell_type": "markdown",
   "id": "7d7c23ba-2457-4847-82e8-998452a76609",
   "metadata": {},
   "source": [
    "Splicing out introns, part one.\n",
    "\n",
    "Of the following sequence, remove one intron from nt 15 to 30 (including boundary nts). Note that python counts from zero and does not include final index. If we want to include nt 30 (which has internal index 29), need to index up till 30."
   ]
  },
  {
   "cell_type": "code",
   "execution_count": 8,
   "id": "c19cbc11-5445-4993-8b7c-0d8afa3c9f59",
   "metadata": {},
   "outputs": [
    {
     "name": "stdout",
     "output_type": "stream",
     "text": [
      "ACTGATCGAATTCAATATAGCTAGCTAGCTA\n"
     ]
    }
   ],
   "source": [
    "intron = seq[14:30]\n",
    "exon = seq.split(intron)\n",
    "print(''.join(exon))"
   ]
  },
  {
   "cell_type": "markdown",
   "id": "829ef369-64f5-44f1-8f65-19a0634d47b2",
   "metadata": {},
   "source": [
    "Splicing out introns, part two.\n",
    "\n",
    "Calculate percentage of DNA sequence that is coding (i.e. is exon(s))"
   ]
  },
  {
   "cell_type": "code",
   "execution_count": 9,
   "id": "018fab71-89dc-4208-9672-173d57b3b231",
   "metadata": {},
   "outputs": [
    {
     "data": {
      "text/plain": [
       "0.6595744680851063"
      ]
     },
     "execution_count": 9,
     "metadata": {},
     "output_type": "execute_result"
    }
   ],
   "source": [
    "len(''.join(exon))/len(seq)"
   ]
  },
  {
   "cell_type": "markdown",
   "id": "1115201b-788d-4d3a-a59b-5d91731fc5b4",
   "metadata": {},
   "source": [
    "Splicing out introns, part three.\n",
    "\n",
    "Print coding sequences (exons) in upper case and non-coding (introns) in lower case."
   ]
  },
  {
   "cell_type": "code",
   "execution_count": 10,
   "id": "3641297e-5351-4278-89db-ed68ea4b59f8",
   "metadata": {},
   "outputs": [
    {
     "name": "stdout",
     "output_type": "stream",
     "text": [
      "ACTGATCGAATTCACGTATATATATTTCATATATAGCTAGCTAGCTA\n",
      "ACTGATCGAATTCAcgtatatatatttcatATATAGCTAGCTAGCTA\n"
     ]
    }
   ],
   "source": [
    "print(seq)\n",
    "print(exon[0] + intron.lower() + exon[1])"
   ]
  },
  {
   "cell_type": "markdown",
   "id": "72c47760-b7b6-432f-980d-b749d062d4d8",
   "metadata": {},
   "source": [
    "## Chapter 3: Reading and writing files\n",
    "\n",
    "### Exercises\n",
    "\n",
    "Splitting genomic DNA. Write intron and exon sequences to two separate files."
   ]
  },
  {
   "cell_type": "code",
   "execution_count": 11,
   "id": "96c6e14f-9ac0-4f65-919a-658e57c5177b",
   "metadata": {},
   "outputs": [],
   "source": [
    "with open('./intron.txt', 'x') as f:\n",
    "    f.write(intron)\n",
    "\n",
    "with open('./exon.txt', 'x') as f:\n",
    "    f.write('\\n'.join(exon))"
   ]
  },
  {
   "cell_type": "markdown",
   "id": "f4a8da62-2906-4fe9-a04c-77bf044bda8a",
   "metadata": {},
   "source": [
    "Write a `.fasta` file with three arbitrary sequences."
   ]
  },
  {
   "cell_type": "code",
   "execution_count": 12,
   "id": "b67cc176-ab66-46a1-8423-f5683ac13990",
   "metadata": {},
   "outputs": [],
   "source": [
    "with open('./example.fasta', 'x') as f:\n",
    "    for i, j in enumerate(exon + [intron]):\n",
    "        f.write('>sequence_' + str(i) + '\\n')\n",
    "        f.write(j + '\\n')"
   ]
  },
  {
   "cell_type": "markdown",
   "id": "937be82d-8739-4db2-8212-9b43d739fc32",
   "metadata": {},
   "source": [
    "Read the written files and print."
   ]
  },
  {
   "cell_type": "code",
   "execution_count": 13,
   "id": "9b195e87-f9f8-4896-992f-9d81e777dcf8",
   "metadata": {},
   "outputs": [
    {
     "name": "stdout",
     "output_type": "stream",
     "text": [
      "FILE: ./intron.txt\n",
      "CGTATATATATTTCAT \n",
      "\n",
      "FILE: ./exon.txt\n",
      "ACTGATCGAATTCA\n",
      "ATATAGCTAGCTAGCTA \n",
      "\n",
      "FILE: ./example.fasta\n",
      ">sequence_0\n",
      "ACTGATCGAATTCA\n",
      ">sequence_1\n",
      "ATATAGCTAGCTAGCTA\n",
      ">sequence_2\n",
      "CGTATATATATTTCAT\n",
      " \n",
      "\n"
     ]
    }
   ],
   "source": [
    "for fil in ['./intron.txt', './exon.txt', './example.fasta']:\n",
    "    with open(fil, 'r') as f:\n",
    "        print('FILE: {}'.format(fil))\n",
    "        print(f.read(), '\\n')"
   ]
  },
  {
   "cell_type": "code",
   "execution_count": 14,
   "id": "652b2b00-8d62-4b65-b85f-c097a6b7342d",
   "metadata": {},
   "outputs": [],
   "source": [
    "# remove test files again\n",
    "import os\n",
    "for f in ['./intron.txt', './exon.txt', './example.fasta']:\n",
    "    os.remove(f)"
   ]
  },
  {
   "cell_type": "markdown",
   "id": "2d86a0eb-6922-463d-9a45-5b2b31612a6d",
   "metadata": {},
   "source": [
    "## Chapter 4: Lists and Loops\n",
    "\n",
    "### Exercises"
   ]
  }
 ],
 "metadata": {
  "kernelspec": {
   "display_name": "Python 3",
   "language": "python",
   "name": "python3"
  },
  "language_info": {
   "codemirror_mode": {
    "name": "ipython",
    "version": 3
   },
   "file_extension": ".py",
   "mimetype": "text/x-python",
   "name": "python",
   "nbconvert_exporter": "python",
   "pygments_lexer": "ipython3",
   "version": "3.9.7"
  }
 },
 "nbformat": 4,
 "nbformat_minor": 5
}
