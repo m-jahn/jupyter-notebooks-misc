{
 "cells": [
  {
   "cell_type": "markdown",
   "id": "31157936-6cec-413e-b3a4-15245f234558",
   "metadata": {},
   "source": [
    "# Python for Biologists\n",
    "\n",
    "Exercises for the book written by Dr. Martin Jones.\n",
    "\n",
    "## Chapter 2: Printing and manipulating text\n",
    "\n",
    "Some functions do manipulate the object without assignment and some don't.\n",
    "Text functions like `.lower` and `.replace()` don't manipulate their arguments (here parent object) because **strings and integers are immutable** while **lists are mutable**. A call to `my_list.reverse()` therefore reverses a list without re-assignment."
   ]
  },
  {
   "cell_type": "markdown",
   "id": "d1be44ea-555e-46aa-951f-3208c21b470b",
   "metadata": {},
   "source": [
    "### Exercises\n",
    "\n",
    "Calculating AT content"
   ]
  },
  {
   "cell_type": "code",
   "execution_count": 1,
   "id": "4148a713-324f-418e-9a69-778994c927e8",
   "metadata": {},
   "outputs": [
    {
     "data": {
      "text/plain": [
       "0.7021276595744681"
      ]
     },
     "execution_count": 1,
     "metadata": {},
     "output_type": "execute_result"
    }
   ],
   "source": [
    "seq = 'ACTGATCGAATTCACGTATATATATTTCATATATAGCTAGCTAGCTA'\n",
    "(seq.count('A') + seq.count('T'))/len(seq)"
   ]
  },
  {
   "cell_type": "markdown",
   "id": "bbd4ea3b-76aa-4b6c-bc90-479ef89c6609",
   "metadata": {},
   "source": [
    "Complementing DNA"
   ]
  },
  {
   "cell_type": "code",
   "execution_count": 2,
   "id": "eb4157dd-b849-4802-bd70-ca68d61937dd",
   "metadata": {},
   "outputs": [
    {
     "name": "stdout",
     "output_type": "stream",
     "text": [
      "ACTGATCGAATTCACGTATATATATTTCATATATAGCTAGCTAGCTA\n",
      "TGACTAGCTTAAGTGCATATATATAAAGTATATATCGATCGATCGAT\n"
     ]
    }
   ],
   "source": [
    "new_seq = ''\n",
    "for i in seq:\n",
    "    if i == 'A': new_seq += 'T'\n",
    "    elif i == 'T': new_seq += 'A'\n",
    "    elif i == 'G': new_seq += 'C'\n",
    "    else: new_seq += 'G'\n",
    "print(seq + '\\n' + new_seq)"
   ]
  },
  {
   "cell_type": "markdown",
   "id": "56b2436c-a753-4706-80de-e737c1e28251",
   "metadata": {},
   "source": [
    "Restriction fragment length. Write a program that recognizes the _EcoR1_ restriction site `G*AATTC` and returns length of fragments.\n",
    "Works only with one restriction site, not multiple."
   ]
  },
  {
   "cell_type": "code",
   "execution_count": 3,
   "id": "668bb7c7-1fa9-4011-8bb4-b076fdf23e00",
   "metadata": {},
   "outputs": [
    {
     "name": "stdout",
     "output_type": "stream",
     "text": [
      "total length: 47\n",
      "fragment length: 8, 39\n"
     ]
    }
   ],
   "source": [
    "def restrict(seq, site = 'GAATTC', cut = 1):\n",
    "    # find start pos of seq and calculate fragment lengths\n",
    "    cut_site = seq.find(site) + cut\n",
    "    print('total length: ' + str(len(seq)))\n",
    "    print('fragment length: {0}, {1}'.format(str(cut_site),str(len(seq)-cut_site)))\n",
    "\n",
    "restrict(seq)"
   ]
  },
  {
   "cell_type": "markdown",
   "id": "7d7c23ba-2457-4847-82e8-998452a76609",
   "metadata": {},
   "source": [
    "Splicing out introns, part one.\n",
    "\n",
    "Of the following sequence, remove one intron from nt 15 to 30 (including boundary nts). Note that python counts from zero and does not include final index. If we want to include nt 30 (which has internal index 29), need to index up till 30."
   ]
  },
  {
   "cell_type": "code",
   "execution_count": 4,
   "id": "c19cbc11-5445-4993-8b7c-0d8afa3c9f59",
   "metadata": {},
   "outputs": [
    {
     "name": "stdout",
     "output_type": "stream",
     "text": [
      "ACTGATCGAATTCAATATAGCTAGCTAGCTA\n"
     ]
    }
   ],
   "source": [
    "intron = seq[14:30]\n",
    "exon = seq.split(intron)\n",
    "print(''.join(exon))"
   ]
  },
  {
   "cell_type": "markdown",
   "id": "829ef369-64f5-44f1-8f65-19a0634d47b2",
   "metadata": {},
   "source": [
    "Splicing out introns, part two.\n",
    "\n",
    "Calculate percentage of DNA sequence that is coding (i.e. is exon(s))"
   ]
  },
  {
   "cell_type": "code",
   "execution_count": 5,
   "id": "018fab71-89dc-4208-9672-173d57b3b231",
   "metadata": {},
   "outputs": [
    {
     "data": {
      "text/plain": [
       "0.6595744680851063"
      ]
     },
     "execution_count": 5,
     "metadata": {},
     "output_type": "execute_result"
    }
   ],
   "source": [
    "len(''.join(exon))/len(seq)"
   ]
  },
  {
   "cell_type": "markdown",
   "id": "1115201b-788d-4d3a-a59b-5d91731fc5b4",
   "metadata": {},
   "source": [
    "Splicing out introns, part three.\n",
    "\n",
    "Print coding sequences (exons) in upper case and non-coding (introns) in lower case."
   ]
  },
  {
   "cell_type": "code",
   "execution_count": 6,
   "id": "3641297e-5351-4278-89db-ed68ea4b59f8",
   "metadata": {},
   "outputs": [
    {
     "name": "stdout",
     "output_type": "stream",
     "text": [
      "ACTGATCGAATTCACGTATATATATTTCATATATAGCTAGCTAGCTA\n",
      "ACTGATCGAATTCAcgtatatatatttcatATATAGCTAGCTAGCTA\n"
     ]
    }
   ],
   "source": [
    "print(seq)\n",
    "print(exon[0] + intron.lower() + exon[1])"
   ]
  },
  {
   "cell_type": "markdown",
   "id": "72c47760-b7b6-432f-980d-b749d062d4d8",
   "metadata": {},
   "source": [
    "## Chapter 3: Reading and writing files\n",
    "\n",
    "### Exercises\n",
    "\n",
    "Splitting genomic DNA. Write intron and exon sequences to two separate files."
   ]
  },
  {
   "cell_type": "code",
   "execution_count": 7,
   "id": "96c6e14f-9ac0-4f65-919a-658e57c5177b",
   "metadata": {},
   "outputs": [],
   "source": [
    "with open('./intron.txt', 'x') as f:\n",
    "    f.write(intron)\n",
    "\n",
    "with open('./exon.txt', 'x') as f:\n",
    "    f.write('\\n'.join(exon))"
   ]
  },
  {
   "cell_type": "markdown",
   "id": "f4a8da62-2906-4fe9-a04c-77bf044bda8a",
   "metadata": {},
   "source": [
    "Write a `.fasta` file with three arbitrary sequences."
   ]
  },
  {
   "cell_type": "code",
   "execution_count": 8,
   "id": "b67cc176-ab66-46a1-8423-f5683ac13990",
   "metadata": {},
   "outputs": [],
   "source": [
    "with open('./example.fasta', 'x') as f:\n",
    "    for i, j in enumerate(exon + [intron]):\n",
    "        f.write('>sequence_' + str(i) + '\\n')\n",
    "        f.write(j + '\\n')"
   ]
  },
  {
   "cell_type": "markdown",
   "id": "937be82d-8739-4db2-8212-9b43d739fc32",
   "metadata": {},
   "source": [
    "Read the written files and print."
   ]
  },
  {
   "cell_type": "code",
   "execution_count": 9,
   "id": "9b195e87-f9f8-4896-992f-9d81e777dcf8",
   "metadata": {},
   "outputs": [
    {
     "name": "stdout",
     "output_type": "stream",
     "text": [
      "FILE: ./intron.txt\n",
      "CGTATATATATTTCAT \n",
      "\n",
      "FILE: ./exon.txt\n",
      "ACTGATCGAATTCA\n",
      "ATATAGCTAGCTAGCTA \n",
      "\n",
      "FILE: ./example.fasta\n",
      ">sequence_0\n",
      "ACTGATCGAATTCA\n",
      ">sequence_1\n",
      "ATATAGCTAGCTAGCTA\n",
      ">sequence_2\n",
      "CGTATATATATTTCAT\n",
      " \n",
      "\n"
     ]
    }
   ],
   "source": [
    "for fil in ['./intron.txt', './exon.txt', './example.fasta']:\n",
    "    with open(fil, 'r') as f:\n",
    "        print('FILE: {}'.format(fil))\n",
    "        print(f.read(), '\\n')"
   ]
  },
  {
   "cell_type": "code",
   "execution_count": 10,
   "id": "652b2b00-8d62-4b65-b85f-c097a6b7342d",
   "metadata": {},
   "outputs": [],
   "source": [
    "# remove test files again\n",
    "import os\n",
    "for f in ['./intron.txt', './exon.txt', './example.fasta']:\n",
    "    os.remove(f)"
   ]
  },
  {
   "cell_type": "markdown",
   "id": "2d86a0eb-6922-463d-9a45-5b2b31612a6d",
   "metadata": {},
   "source": [
    "## Chapter 4: Lists and Loops\n",
    "\n",
    "### Exercises"
   ]
  },
  {
   "cell_type": "markdown",
   "id": "63df2ad4-6b36-4975-94c2-4029d9290898",
   "metadata": {},
   "source": [
    "Read an example FASTA file that contains different DNA sequences which share a 14 bp adapter at the beginning.\n",
    "Write a program that will a) remove the adapter, and b) print the length of the sequence on screen.\n",
    "From now on we will omit writing new files as they have to be removed again."
   ]
  },
  {
   "cell_type": "code",
   "execution_count": 11,
   "id": "ccbfbe6b-846f-47f4-b874-979e574a8d72",
   "metadata": {},
   "outputs": [
    {
     "name": "stdout",
     "output_type": "stream",
     "text": [
      "length = 43 bp\n",
      "length = 38 bp\n",
      "length = 49 bp\n",
      "length = 34 bp\n",
      "length = 48 bp\n",
      "TCGATCGATCGATCGATCGATCGATCGATCGATCGATCGATC\n",
      "ACTGATCGATCGATCGATCGATCGATGCTATCGTCGT\n",
      "ATCGATCACGATCTATCGTACGTATGCATATCGATATCGATCGTAGTC\n",
      "ACTATCGATGATCTAGCTACGATCGTAGCTGTA\n",
      "ACTAGCTAGTCTCGATGCATGATCAGCTTAGCTGATGATGCTATGCA\n",
      "\n"
     ]
    }
   ],
   "source": [
    "# make new list\n",
    "res = []\n",
    "\n",
    "# read content line by line and modify sequences\n",
    "with open('./python_for_biologists_examples/lists_and_loops/exercises/input.txt', 'r') as f:\n",
    "    for l in f.readlines():\n",
    "        seq_trimmed = l.replace('ATTCGATTATAAGC', '')\n",
    "        print('length = {0} bp'.format(str(len(seq_trimmed))))\n",
    "        res += [seq_trimmed]\n",
    "\n",
    "print(''.join(res))"
   ]
  },
  {
   "cell_type": "markdown",
   "id": "bb557d46-f7d7-406c-a63d-b449dab66ccd",
   "metadata": {},
   "source": [
    "Load a single 'long' genomic sequence, and extract exon sequences by positional index."
   ]
  },
  {
   "cell_type": "code",
   "execution_count": 12,
   "id": "99571bcb-c7a1-4426-8cfd-f1c10281409a",
   "metadata": {},
   "outputs": [
    {
     "name": "stdout",
     "output_type": "stream",
     "text": [
      "CGTACCGTCGACGATGCTACGATCGTCGATCGTAGTCGATCATCGATCGATCG\n",
      "CGATCGATCGATATCGATCGATATCATCGATGCATCGATCATCGATCGATCGATCGATCGA\n",
      "CGATCGATCGATCGTAGCTAGCTAGCTAGATCGATCATCATCGTAGCTAGCTCGACTAGCTACGTACGATCGATGCATCGATCGTA\n",
      "CGATCGATCGATCGATCGATCGATCGATCGATCGATCGATCGTAGCTAGCTACGATCG\n",
      "concatenated result:\n",
      "CGTACCGTCGACGATGCTACGATCGTCGATCGTAGTCGATCATCGATCGATCGCGATCGATCGATATCGATCGATATCATCGATGCATCGATCATCGATCGATCGATCGATCGACGATCGATCGATCGTAGCTAGCTAGCTAGATCGATCATCATCGTAGCTAGCTCGACTAGCTACGTACGATCGATGCATCGATCGTACGATCGATCGATCGATCGATCGATCGATCGATCGATCGATCGTAGCTAGCTACGATCG\n"
     ]
    }
   ],
   "source": [
    "# read content line by line and modify sequences\n",
    "with open('./python_for_biologists_examples/lists_and_loops/exercises/genomic_dna.txt', 'r') as f:\n",
    "    seq_genomic = f.readline()\n",
    "\n",
    "res = []\n",
    "with open('./python_for_biologists_examples/lists_and_loops/exercises/exons.txt', 'r') as f:\n",
    "    for l in f.readlines():\n",
    "        ind = l.replace('\\n', '')\n",
    "        ind = ind.split(',')\n",
    "        start = int(ind[0])\n",
    "        stop = int(ind[1])\n",
    "        print(seq_genomic[start:stop])\n",
    "        res += [seq_genomic[start:stop]]\n",
    "        \n",
    "print('concatenated result:\\n' + ''.join(res))"
   ]
  },
  {
   "cell_type": "markdown",
   "id": "d2ccf070-ae51-46d2-a479-49e5b7280df4",
   "metadata": {},
   "source": [
    "## Chapter 5: Writing your own functions\n",
    "\n",
    "### Useful functions"
   ]
  },
  {
   "cell_type": "markdown",
   "id": "ec3d51c4-e559-4786-bf7b-3b3b698387d9",
   "metadata": {},
   "source": [
    "The `assess` statement can be used to conduct simple unit tests, i.e. compare a function's output to a predefined result.\n",
    "The following function shows this, and, as a side effect just prints something to the console. Such functions return `None` in pytho (equivalent of `NULL` in R)."
   ]
  },
  {
   "cell_type": "code",
   "execution_count": 13,
   "id": "a456a4de-03c9-49cf-a9cf-f1fb6331d1aa",
   "metadata": {},
   "outputs": [
    {
     "name": "stdout",
     "output_type": "stream",
     "text": [
      "test\n",
      "None\n"
     ]
    }
   ],
   "source": [
    "def my_fun(arg):\n",
    "    print(arg)\n",
    "\n",
    "print(my_fun(\"test\"))"
   ]
  },
  {
   "cell_type": "code",
   "execution_count": 14,
   "id": "cf7e598d-76b4-4c78-979c-a4bd84d67c41",
   "metadata": {},
   "outputs": [
    {
     "name": "stdout",
     "output_type": "stream",
     "text": [
      "test\n"
     ]
    }
   ],
   "source": [
    "# this test does not fail\n",
    "assert my_fun(\"test\") == None"
   ]
  },
  {
   "cell_type": "markdown",
   "id": "75caf68e-3151-40ae-bc76-43ba2b9bd7de",
   "metadata": {},
   "source": [
    "### Exercises"
   ]
  },
  {
   "cell_type": "markdown",
   "id": "bf1afe7c-c973-49d3-806e-c623509bff2e",
   "metadata": {},
   "source": [
    "Percentage of amino acids, part 1.\n",
    "\n",
    "Write a function that takes two arguments, a protein sequence and an amino acid residue (1 letter code), and returns the percentage of the protein tha thr amino acid makes up. Use assertions to test your function."
   ]
  },
  {
   "cell_type": "code",
   "execution_count": 15,
   "id": "7c739314-349f-48c7-b818-a4ba0508f3fc",
   "metadata": {},
   "outputs": [],
   "source": [
    "def percent_as(seq, as_residue):\n",
    "    return(seq.count(as_residue)/len(seq)*100)\n",
    "\n",
    "assert percent_as(seq = \"MSRSLLLRFLLFLLLLPPLP\", as_residue = \"M\") == 5\n",
    "assert percent_as(seq = \"MSRSLLLRFLLFLLLLPPLP\", as_residue = \"R\") == 10\n",
    "assert percent_as(seq = \"MSRSLLLRFLLFLLLLPPLP\", as_residue = \"L\") == 50\n",
    "assert percent_as(seq = \"MSRSLLLRFLLFLLLLPPLP\", as_residue = \"Y\") == 0"
   ]
  },
  {
   "cell_type": "markdown",
   "id": "428c7409-4678-437a-9837-e869910b6f65",
   "metadata": {},
   "source": [
    "Percentage of amino acids, part 2.\n",
    "\n",
    "Modify the function above such that it returns amino acid percentage for an arbitrary list of amino acids. If not AA argument is passed, the function should return the percentage of hydrophobic amino acids."
   ]
  },
  {
   "cell_type": "code",
   "execution_count": 16,
   "id": "f155f3e3-359f-4fb1-8aa7-f341fe959f21",
   "metadata": {},
   "outputs": [],
   "source": [
    "def percent_as(seq, as_residue = [\"A\", \"I\", \"L\", \"M\", \"F\", \"W\", \"Y\", \"V\"]):\n",
    "    aa_percent = [seq.count(i)/len(seq)*100 for i in as_residue]\n",
    "    return(sum(aa_percent))\n",
    "\n",
    "assert percent_as(seq = \"MSRSLLLRFLLFLLLLPPLP\", as_residue = [\"M\"]) == 5\n",
    "assert percent_as(seq = \"MSRSLLLRFLLFLLLLPPLP\", as_residue = [\"M\", \"L\"]) == 55\n",
    "assert percent_as(seq = \"MSRSLLLRFLLFLLLLPPLP\", as_residue = [\"F\", \"S\", \"L\"]) == 70\n",
    "assert percent_as(seq = \"MSRSLLLRFLLFLLLLPPLP\") == 65"
   ]
  },
  {
   "cell_type": "markdown",
   "id": "9e137ee0-b50f-4b5a-b3e4-4c8b2654d0e1",
   "metadata": {},
   "source": [
    "## Chapter 6: Conditional tests\n",
    "\n",
    "### Exercises"
   ]
  },
  {
   "cell_type": "markdown",
   "id": "20ae1ae9-e424-4b26-ab50-9acb74ce4ae3",
   "metadata": {},
   "source": [
    "Import the data table `data.csv`. Then perform various tasks with it."
   ]
  },
  {
   "cell_type": "code",
   "execution_count": 17,
   "id": "46f7b7b4-6409-47d2-9eb8-21567c16ccb8",
   "metadata": {},
   "outputs": [
    {
     "name": "stdout",
     "output_type": "stream",
     "text": [
      "['Drosophila melanogaster,atatatatatcgcgtatatatacgactatatgcattaattatagcatatcgatatatatatcgatattatatcgcattatacgcgcgtaattatatcgcgtaattacga,kdy647,264\\n', 'Drosophila melanogaster,actgtgacgtgtactgtacgactatcgatacgtagtactgatcgctactgtaatgcatccatgctgacgtatctaagt,jdg766,185\\n', 'Drosophila simulans,atcgatcatgtcgatcgatgatgcatccgactatcgtcgatcgtgatcgatcgatcgatcatcgatcgatgtcgatcatgtcgatatcgt,kdy533,485\\n', 'Drosophila yakuba,cgcgcgctcgcgcatacggcctaatgcgcgcgctagcgatgc,hdt739,85\\n', 'Drosophila ananassae,ttacgatcgatcgatcgatcgatcgtcgatcgtcgatgctacatcgatcatcatcggattagtcacatcgatcgatcatcgactgatcgtcgatcgtagatgctgacatcgatagca,hdu045,356\\n', 'Drosophila ananassae,gcatcgatcgatcgcggcgcatcgatcgcgatcatcgatcatacgcgtcatatctatacgtcactgccgcgcgtatctacgcgatgactagctagact,teg436,222\\n']\n"
     ]
    }
   ],
   "source": [
    "with open('./python_for_biologists_examples/conditional_tests/exercises/data.csv', 'r') as f:\n",
    "    data = f.readlines()\n",
    "\n",
    "print(data)"
   ]
  },
  {
   "cell_type": "markdown",
   "id": "94d94472-e300-478c-ba30-75c1067f7c39",
   "metadata": {},
   "source": [
    "Print out gene names for selected species."
   ]
  },
  {
   "cell_type": "code",
   "execution_count": 18,
   "id": "77aa626e-7eb2-4dcd-8abb-f467a55dc116",
   "metadata": {},
   "outputs": [
    {
     "name": "stdout",
     "output_type": "stream",
     "text": [
      "gene name =  kdy647\n",
      "gene name =  jdg766\n",
      "gene name =  kdy533\n"
     ]
    }
   ],
   "source": [
    "for entry in data:\n",
    "    entry_list = entry.split(',')\n",
    "    if entry_list[0] in ['Drosophila melanogaster', 'Drosophila simulans']:\n",
    "        print('gene name = ', entry_list[2])"
   ]
  },
  {
   "cell_type": "markdown",
   "id": "1e679261-6f8c-4db7-9b11-4a42fd0ac3a7",
   "metadata": {},
   "source": [
    "Print gene names for genes that are between 90 and 110 bases long."
   ]
  },
  {
   "cell_type": "code",
   "execution_count": 19,
   "id": "2987fd7f-b6b3-42c3-83e0-a06a2b64d582",
   "metadata": {},
   "outputs": [
    {
     "name": "stdout",
     "output_type": "stream",
     "text": [
      "gene name =  kdy647\n",
      "gene name =  kdy533\n",
      "gene name =  teg436\n"
     ]
    }
   ],
   "source": [
    "for entry in data:\n",
    "    entry_list = entry.split(',')\n",
    "    length = len(entry_list[1])\n",
    "    if int(length) >= 90 and int(length) <= 110:\n",
    "        print('gene name = ', entry_list[2])"
   ]
  },
  {
   "cell_type": "markdown",
   "id": "239b1c6e-1265-4897-944c-8d0defdd334d",
   "metadata": {},
   "source": [
    "Print gene names for all genes whose AT content is less than 0.5 and whose expression level is greater than 200."
   ]
  },
  {
   "cell_type": "code",
   "execution_count": 20,
   "id": "a9bc2e55-b896-482d-9981-f61a822d6da1",
   "metadata": {},
   "outputs": [
    {
     "name": "stdout",
     "output_type": "stream",
     "text": [
      "gene name =  teg436\n"
     ]
    }
   ],
   "source": [
    "for entry in data:\n",
    "    entry_list = entry.split(',')\n",
    "    seq = entry_list[1]\n",
    "    at_content = (seq.count('a') + seq.count('t'))/len(seq)\n",
    "    level = int(entry_list[3].rstrip('\\n'))\n",
    "    if level > 200 and at_content < 0.5:\n",
    "        print('gene name = ', entry_list[2])"
   ]
  },
  {
   "cell_type": "markdown",
   "id": "6092dbda-949a-4abc-bcf1-f956d732ff92",
   "metadata": {},
   "source": [
    "Print gene names for genes that begin with 'k' or 'h' but DO NOT belong to 'Drosophila melanogaster' species."
   ]
  },
  {
   "cell_type": "code",
   "execution_count": 21,
   "id": "ddc77c4b-e813-43e9-ad88-965895292fac",
   "metadata": {},
   "outputs": [
    {
     "name": "stdout",
     "output_type": "stream",
     "text": [
      "gene name =  kdy533\n",
      "gene name =  hdt739\n",
      "gene name =  hdu045\n"
     ]
    }
   ],
   "source": [
    "for entry in data:\n",
    "    entry_list = entry.split(',')\n",
    "    name_start = entry_list[2][0]\n",
    "    if name_start in ['k', 'h'] and entry_list[0] != 'Drosophila melanogaster':\n",
    "        print('gene name = ', entry_list[2])"
   ]
  },
  {
   "cell_type": "markdown",
   "id": "f22d8d3b-353d-4865-a61d-da7ea1153cc3",
   "metadata": {},
   "source": [
    "For each gene, print gene name and AT content by category. Low: AT <= 0.45. Medium:  0.45 < AT <= 0.65, High: 0.65 < AT."
   ]
  },
  {
   "cell_type": "code",
   "execution_count": 22,
   "id": "5560c060-29e8-42a7-a55b-3775e26cf8ad",
   "metadata": {},
   "outputs": [
    {
     "name": "stdout",
     "output_type": "stream",
     "text": [
      "gene kdy647 with AT content: high\n",
      "gene jdg766 with AT content: medium\n",
      "gene kdy533 with AT content: medium\n",
      "gene hdt739 with AT content: low\n",
      "gene hdu045 with AT content: medium\n",
      "gene teg436 with AT content: medium\n"
     ]
    }
   ],
   "source": [
    "for entry in data:\n",
    "    entry_list = entry.split(',')\n",
    "    seq = entry_list[1]\n",
    "    at_content = (seq.count('a') + seq.count('t'))/len(seq)\n",
    "    if at_content <= 0.45:\n",
    "        at_cat = 'low'\n",
    "    elif at_content <= 0.65 and at_content > 0.45:\n",
    "        at_cat = 'medium'\n",
    "    elif at_content > 0.65:\n",
    "        at_cat = 'high'\n",
    "    print('gene {0} with AT content: {1}'.format(entry_list[2], at_cat))"
   ]
  },
  {
   "cell_type": "markdown",
   "id": "8753a667-d344-40fd-bd8d-48cb67deae2a",
   "metadata": {},
   "source": [
    "## Chapter 7: Regular expressions"
   ]
  },
  {
   "cell_type": "markdown",
   "id": "f8bd4f97-7603-4f98-bd6c-ca1a44172951",
   "metadata": {},
   "source": [
    "Nice to know: Python has a short hand for printing raw strings instead of formatting marks like `\\n` - just add an 'r' like 'raw' directly before the string.\n"
   ]
  },
  {
   "cell_type": "code",
   "execution_count": 23,
   "id": "6032101c-081a-4fd2-8bc0-175d6b8ed36b",
   "metadata": {},
   "outputs": [
    {
     "name": "stdout",
     "output_type": "stream",
     "text": [
      "A\n",
      "T\n"
     ]
    }
   ],
   "source": [
    "print(\"A\\nT\")"
   ]
  },
  {
   "cell_type": "code",
   "execution_count": 24,
   "id": "7946976c-155b-45ad-9e23-a0c7ceae250d",
   "metadata": {},
   "outputs": [
    {
     "name": "stdout",
     "output_type": "stream",
     "text": [
      "A\\nT\n"
     ]
    }
   ],
   "source": [
    "print(r\"A\\nT\")"
   ]
  },
  {
   "cell_type": "markdown",
   "id": "fae96a1f-8939-47c3-9efc-6c7ab8c76dce",
   "metadata": {},
   "source": [
    "Useful functions from regular expression `re` module are:\n",
    "\n",
    "- `re.search()` - returns the match and its position in the string\n",
    "- `re.split()` - returns a list of strings split by a pattern\n",
    "- `re.findall()` - returns a list of all matches of a pattern in a string\n",
    "- `re.finditer()` - returns a sequence of match objects, handled in a loop for example"
   ]
  },
  {
   "cell_type": "markdown",
   "id": "1c2e657d-f23e-4711-b1d0-d40a5a17a3d3",
   "metadata": {},
   "source": [
    "### Exercises"
   ]
  },
  {
   "cell_type": "code",
   "execution_count": 25,
   "id": "27817fd8-e40c-42be-9653-eaa0c1785c37",
   "metadata": {},
   "outputs": [
    {
     "name": "stdout",
     "output_type": "stream",
     "text": [
      "['xkn59438', 'yhdck2', 'eihd39d9', 'chdsye847', 'hedle3455', 'xjhd53e', '45da', 'de37dp']\n"
     ]
    }
   ],
   "source": [
    "# parse expression to list\n",
    "with open('./python_for_biologists_examples/regular_expressions/exercises/accessions.txt', 'r') as f:\n",
    "    accession = eval(f.readline().lstrip('accessions = '))\n",
    "print(accession)"
   ]
  },
  {
   "cell_type": "markdown",
   "id": "1bf1ecd5-c248-42fe-b993-4752ddfd859e",
   "metadata": {},
   "source": [
    "Print accession names matching a number of different, individual criteria."
   ]
  },
  {
   "cell_type": "code",
   "execution_count": 26,
   "id": "a18b113e-c4d7-4ed0-bc0e-a24b7bf8ab14",
   "metadata": {},
   "outputs": [],
   "source": [
    "import re"
   ]
  },
  {
   "cell_type": "code",
   "execution_count": 27,
   "id": "17f47706-d1c2-4c96-ad42-66a320a7ca1c",
   "metadata": {},
   "outputs": [
    {
     "data": {
      "text/plain": [
       "['xkn59438', 'hedle3455', 'xjhd53e', '45da']"
      ]
     },
     "execution_count": 27,
     "metadata": {},
     "output_type": "execute_result"
    }
   ],
   "source": [
    "# match number 5\n",
    "[i for i in accession if re.search('5', i)]"
   ]
  },
  {
   "cell_type": "code",
   "execution_count": 28,
   "id": "fa995b0b-29b2-4347-bb14-13e483919376",
   "metadata": {},
   "outputs": [
    {
     "data": {
      "text/plain": [
       "['yhdck2', 'eihd39d9', 'chdsye847', 'hedle3455', 'xjhd53e', '45da', 'de37dp']"
      ]
     },
     "execution_count": 28,
     "metadata": {},
     "output_type": "execute_result"
    }
   ],
   "source": [
    "# match letter d OR e\n",
    "[i for i in accession if re.search('[de]', i)]"
   ]
  },
  {
   "cell_type": "code",
   "execution_count": 29,
   "id": "e5f67c49-8d4c-474c-9620-34c528ce50d9",
   "metadata": {},
   "outputs": [
    {
     "data": {
      "text/plain": [
       "['de37dp']"
      ]
     },
     "execution_count": 29,
     "metadata": {},
     "output_type": "execute_result"
    }
   ],
   "source": [
    "# match sequence 'de'\n",
    "[i for i in accession if re.search('de', i)]"
   ]
  },
  {
   "cell_type": "code",
   "execution_count": 30,
   "id": "29c59720-8482-46a2-92b2-41ce4f6908e0",
   "metadata": {},
   "outputs": [
    {
     "data": {
      "text/plain": [
       "['hedle3455']"
      ]
     },
     "execution_count": 30,
     "metadata": {},
     "output_type": "execute_result"
    }
   ],
   "source": [
    "# match 'd*e' with * being any letter\n",
    "[i for i in accession if re.search('d[a-z]e', i)]"
   ]
  },
  {
   "cell_type": "code",
   "execution_count": 31,
   "id": "3bfea865-7b59-427b-ba92-bd8b30929ae1",
   "metadata": {},
   "outputs": [
    {
     "data": {
      "text/plain": [
       "['eihd39d9', 'chdsye847', 'hedle3455', 'xjhd53e', 'de37dp']"
      ]
     },
     "execution_count": 31,
     "metadata": {},
     "output_type": "execute_result"
    }
   ],
   "source": [
    "# match d and e in any order\n",
    "[i for i in accession if re.search('d.*e|e.*d', i)]"
   ]
  },
  {
   "cell_type": "code",
   "execution_count": 32,
   "id": "b2f8f472-0b08-479a-8a6e-301d14ebcf3c",
   "metadata": {},
   "outputs": [
    {
     "data": {
      "text/plain": [
       "['xkn59438', 'yhdck2', 'xjhd53e']"
      ]
     },
     "execution_count": 32,
     "metadata": {},
     "output_type": "execute_result"
    }
   ],
   "source": [
    "# start with x or y\n",
    "[i for i in accession if re.search('^[xy]', i)]"
   ]
  },
  {
   "cell_type": "code",
   "execution_count": 33,
   "id": "d97f3a5f-53ab-4480-b9cc-592c24968356",
   "metadata": {},
   "outputs": [
    {
     "data": {
      "text/plain": [
       "['xjhd53e']"
      ]
     },
     "execution_count": 33,
     "metadata": {},
     "output_type": "execute_result"
    }
   ],
   "source": [
    "# start with x or y, and end with e\n",
    "[i for i in accession if re.search('^[xy].*e$', i)]"
   ]
  },
  {
   "cell_type": "code",
   "execution_count": 34,
   "id": "bcd6a3a7-02a6-4d75-9bbe-c8a3b6e960eb",
   "metadata": {},
   "outputs": [
    {
     "data": {
      "text/plain": [
       "['xkn59438', 'chdsye847', 'hedle3455']"
      ]
     },
     "execution_count": 34,
     "metadata": {},
     "output_type": "execute_result"
    }
   ],
   "source": [
    "# contain at least three numbers in a row\n",
    "[i for i in accession if re.search('[0-9]{3}', i)]"
   ]
  },
  {
   "cell_type": "code",
   "execution_count": 35,
   "id": "6d26d7f5-dd26-4403-ad78-ae767c746495",
   "metadata": {},
   "outputs": [
    {
     "data": {
      "text/plain": [
       "['45da', 'de37dp']"
      ]
     },
     "execution_count": 35,
     "metadata": {},
     "output_type": "execute_result"
    }
   ],
   "source": [
    "# end with d followed by either a, r, or p\n",
    "[i for i in accession if re.search('d[arp]$', i)]"
   ]
  },
  {
   "cell_type": "markdown",
   "id": "da368a56-fe5e-401e-9405-4efe18cdfe96",
   "metadata": {},
   "source": [
    "Double digest.\n",
    "\n",
    "Import a random DNA sequence and _in silico_ digest it with two restriction enzymes of varying specificity. Split by:\n",
    "\n",
    "- enzyme 1, specificity `ANT*AAT`\n",
    "- enzyme 2, specificity `GCRW*TG`\n",
    "\n",
    "Important to note that N means arbitrary nucleotide, R means A or G, W means A or T."
   ]
  },
  {
   "cell_type": "code",
   "execution_count": 36,
   "id": "067189b4-a5f0-4f44-a9a3-a0102d8869e5",
   "metadata": {},
   "outputs": [
    {
     "name": "stdout",
     "output_type": "stream",
     "text": [
      "ATGGCAATAACCCCCCGTTTCTACTTCTAGAGGAGAAAAGTATTGACATGAGCGCTCCCGGCACAAGGGCCAAAGAAGTCTCCAATTTCTTATTTCCGAATGACATGCGTCTCCTTGCGGGTAAATCACCGACCGCAATTCATAGAAGCCTGGGGGAACAGATAGGTCTAATTAGCTTAAGAGAGTAAATCCTGGGATCATTCAGTAGTAACCATAAACTTACGCTGGGGCTTCTTCGGCGGATTTTTACAGTTACCAACCAGGAGATTTGAAGTAAATCAGTTGAGGATTTAGCCGCGCTATCCGGTAATCTCCAAATTAAAACATACCGTTCCATGAAGGCTAGAATTACTTACCGGCCTTTTCCATGCCTGCGCTATACCCCCCCACTCTCCCGCTTATCCGTCCGAGCGGAGGCAGTGCGATCCTCCGTTAAGATATTCTTACGTGTGACGTAGCTATGTATTTTGCAGAGCTGGCGAACGCGTTGAACACTTCACAGATGGTAGGGATTCGGGTAAAGGGCGTATAATTGGGGACTAACATAGGCGTAGACTACGATGGCGCCAACTCAATCGCAGCTCGAGCGCCCTGAATAACGTACTCATCTCAACTCATTCTCGGCAATCTACCGAGCGACTCGATTATCAACGGCTGTCTAGCAGTTCTAATCTTTTGCCAGCATCGTAATAGCCTCCAAGAGATTGATGATAGCTATCGGCACAGAACTGAGACGGCGCCGATGGATAGCGGACTTTCGGTCAACCACAATTCCCCACGGGACAGGTCCTGCGGTGCGCATCACTCTGAATGTACAAGCAACCCAAGTGGGCCGAGCCTGGACTCAGCTGGTTCCTGCGTGAGCTCGAGACTCGGGATGACAGCTCTTTAAACATAGAGCGGGGGCGTCGAACGGTCGAGAAAGTCATAGTACCTCGGGTACCAACTTACTCAGGTTATTGCTTGAAGCTGTACTATTTTAGGGGGGGAGCGCTGAAGGTCTCTTCTTCTCATGACTGAACTCGCGAGGGTCGTGAAGTCGGTTCCTTCAATGGTTAAAAAACAAAGGCTTACTGTGCGCAGAGGAACGCCCATCTAGCGGCTGGCGTCTTGAATGCTCGGTCCCCTTTGTCATTCCGGATTAATCCATTTCCCTCATTCACGAGCTTGCGAAGTCTACATTGGTATATGAATGCGACCTAGAAGAGGGCGCTTAAAATTGGCAGTGGTTGATGCTCTAAACTCCATTTGGTTTACTCGTGCATCACCGCGATAGGCTGACAAAGGTTTAACATTGAATAGCAAGGCACTTCCGGTCTCAATGAACGGCCGGGAAAGGTACGCGCGCGGTATGGGAGGATCAAGGGGCCAATAGAGAGGCTCCTCTCTCACTCGCTAGGAGGCAAATGTAAAACAATGGTTACTGCATCGATACATAAAACATGTCCATCGGTTGCCCAAAGTGTTAAGTGTCTATCACCCCTAGGGCCGTTTCCCGCATATAAACGCCAGGTTGTATCCGCATTTGATGCTACCGTGGATGAGTCTGCGTCGAGCGCGCCGCACGAATGTTGCAATGTATTGCATGAGTAGGGTTGACTAAGAGCCGTTAGATGCGTCGCTGTACTAATAGTTGTCGACAGACCGTCGAGATTAGAAAATGGTACCAGCATTTTCGGAGGTTCTCTAACTAGTATGGATTGCGGTGTCTTCACTGTGCTGCGGCTACCCATCGCCTGAAATCCAGCTGGTGTCAAGCCATCCCCTCTCCGGGACGCCGCATGTAGTGAAACATATACGTTGCACGGGTTCACCGCGGTCCGTTCTGAGTCGACCAAGGACACAATCGAGCTCCGATCCGTACCCTCGACAAACTTGTACCCGACCCCCGGAGCTTGCCAGCTCCTCGGGTATCATGGAGCCTGTGGTTCATCGCGTCCGATATCAAACTTCGTCATGATAAAGTCCCCCCCTCGGGAGTACCAGAGAAGATGACTACTGAGTTGTGCGAT\n",
      "\n"
     ]
    }
   ],
   "source": [
    "with open('./python_for_biologists_examples/regular_expressions/exercises/dna.txt', 'r') as f:\n",
    "    seq = f.readline()\n",
    "print(seq)"
   ]
  },
  {
   "cell_type": "code",
   "execution_count": 37,
   "id": "8e8d2e38-c8a2-4b1f-b06b-efaad6213255",
   "metadata": {},
   "outputs": [],
   "source": [
    "enz1_cut = [i.start()+3 for i in re.finditer('A[ATCG]TAAT', seq)]\n",
    "enz2_cut = [i.start()+4 for i in re.finditer('GC[AG][AT]TG', seq)]"
   ]
  },
  {
   "cell_type": "code",
   "execution_count": 38,
   "id": "553fd01c-45c5-4b8b-ab18-9b2182fb368a",
   "metadata": {},
   "outputs": [
    {
     "data": {
      "text/plain": [
       "[488, 1143, 1577, 1628]"
      ]
     },
     "execution_count": 38,
     "metadata": {},
     "output_type": "execute_result"
    }
   ],
   "source": [
    "# all cut positions\n",
    "all_cut = enz1_cut + enz2_cut\n",
    "all_cut.sort()\n",
    "all_cut"
   ]
  },
  {
   "cell_type": "code",
   "execution_count": 39,
   "id": "3ed2ed99-5575-4ba1-b666-2e74d73f68fa",
   "metadata": {},
   "outputs": [],
   "source": [
    "# add end position to obtain full length\n",
    "all_cut += [len(seq)]"
   ]
  },
  {
   "cell_type": "code",
   "execution_count": 40,
   "id": "9307399a-4aa1-41db-be8b-8aec4306d810",
   "metadata": {},
   "outputs": [
    {
     "name": "stdout",
     "output_type": "stream",
     "text": [
      "[488, 655, 434, 51, 385]\n"
     ]
    }
   ],
   "source": [
    "fragments = []\n",
    "for i, j in enumerate(all_cut):\n",
    "    if i > 0:\n",
    "        difference = j-all_cut[i-1]\n",
    "    else: difference = j\n",
    "    fragments += [difference]\n",
    "\n",
    "print(fragments)\n",
    "assert sum(fragments) == len(seq)"
   ]
  }
 ],
 "metadata": {
  "kernelspec": {
   "display_name": "Python 3",
   "language": "python",
   "name": "python3"
  },
  "language_info": {
   "codemirror_mode": {
    "name": "ipython",
    "version": 3
   },
   "file_extension": ".py",
   "mimetype": "text/x-python",
   "name": "python",
   "nbconvert_exporter": "python",
   "pygments_lexer": "ipython3",
   "version": "3.9.7"
  }
 },
 "nbformat": 4,
 "nbformat_minor": 5
}
