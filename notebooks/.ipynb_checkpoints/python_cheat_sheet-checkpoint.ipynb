{
 "cells": [
  {
   "cell_type": "markdown",
   "id": "6f0b55c0-45c3-482c-89d8-d18548921248",
   "metadata": {},
   "source": [
    "# Conceptual differences between Python and R\n",
    "\n",
    "Collection of most important objects and methods in python, particularly with regard to differences to R.\n",
    "Also a sort of personal cheat sheet for me coming from R.\n",
    "\n",
    "## Data types\n",
    "\n",
    "### Strings"
   ]
  },
  {
   "cell_type": "code",
   "execution_count": 1,
   "id": "42d40822-b55b-434f-869a-e3124071f684",
   "metadata": {},
   "outputs": [],
   "source": [
    "s = 'mystring'; s2 = 'anotherString'"
   ]
  },
  {
   "cell_type": "code",
   "execution_count": 2,
   "id": "4849322d-9834-49dc-bf2c-5c1a45e1be69",
   "metadata": {},
   "outputs": [
    {
     "data": {
      "text/plain": [
       "'Mystring'"
      ]
     },
     "execution_count": 2,
     "metadata": {},
     "output_type": "execute_result"
    }
   ],
   "source": [
    "s.capitalize()"
   ]
  },
  {
   "cell_type": "code",
   "execution_count": 3,
   "id": "897d6e1e-a379-4789-acec-2671191b8f18",
   "metadata": {},
   "outputs": [
    {
     "data": {
      "text/plain": [
       "'MYSTRING'"
      ]
     },
     "execution_count": 3,
     "metadata": {},
     "output_type": "execute_result"
    }
   ],
   "source": [
    "s.swapcase()"
   ]
  },
  {
   "cell_type": "code",
   "execution_count": 4,
   "id": "f4b92e83-4a8f-4aab-a049-f0f75c09c6f9",
   "metadata": {},
   "outputs": [
    {
     "data": {
      "text/plain": [
       "'MYSTRING'"
      ]
     },
     "execution_count": 4,
     "metadata": {},
     "output_type": "execute_result"
    }
   ],
   "source": [
    "s.upper()"
   ]
  },
  {
   "cell_type": "code",
   "execution_count": 5,
   "id": "c393db5e-fb8e-4b57-9f88-3b6a041c3537",
   "metadata": {},
   "outputs": [
    {
     "data": {
      "text/plain": [
       "'mystring'"
      ]
     },
     "execution_count": 5,
     "metadata": {},
     "output_type": "execute_result"
    }
   ],
   "source": [
    "s.lower()"
   ]
  },
  {
   "cell_type": "code",
   "execution_count": 6,
   "id": "3d83b4a7-0890-4693-b6f3-89d6bbf45073",
   "metadata": {},
   "outputs": [
    {
     "data": {
      "text/plain": [
       "['my', 'ring']"
      ]
     },
     "execution_count": 6,
     "metadata": {},
     "output_type": "execute_result"
    }
   ],
   "source": [
    "s.split('st')"
   ]
  },
  {
   "cell_type": "code",
   "execution_count": 7,
   "id": "2808e1c4-8663-46a8-a95c-a45a250110a4",
   "metadata": {},
   "outputs": [
    {
     "data": {
      "text/plain": [
       "8"
      ]
     },
     "execution_count": 7,
     "metadata": {},
     "output_type": "execute_result"
    }
   ],
   "source": [
    "len(s)"
   ]
  },
  {
   "cell_type": "code",
   "execution_count": 8,
   "id": "f0409d1f-20e3-4466-8b53-bf56142ac346",
   "metadata": {},
   "outputs": [
    {
     "data": {
      "text/plain": [
       "'mystringanotherString'"
      ]
     },
     "execution_count": 8,
     "metadata": {},
     "output_type": "execute_result"
    }
   ],
   "source": [
    "# merge two strings\n",
    "s + s2"
   ]
  },
  {
   "cell_type": "code",
   "execution_count": 9,
   "id": "35435e29-efe0-4e47-97cd-6a04b3008ca5",
   "metadata": {},
   "outputs": [
    {
     "data": {
      "text/plain": [
       "'mystringmystring'"
      ]
     },
     "execution_count": 9,
     "metadata": {},
     "output_type": "execute_result"
    }
   ],
   "source": [
    "# repeat string elements and return new string\n",
    "s * 2"
   ]
  },
  {
   "cell_type": "code",
   "execution_count": 10,
   "id": "22ec60af-d885-4dbc-8592-8ad18873a041",
   "metadata": {},
   "outputs": [
    {
     "data": {
      "text/plain": [
       "'string 1: mystring - string 2: anotherString'"
      ]
     },
     "execution_count": 10,
     "metadata": {},
     "output_type": "execute_result"
    }
   ],
   "source": [
    "# use of format with position placeholders\n",
    "'string 1: {0} - string 2: {1}'.format(s, s2)"
   ]
  },
  {
   "cell_type": "code",
   "execution_count": 11,
   "id": "7edc76f6-b328-44e2-ba04-c2dd3b3569f5",
   "metadata": {},
   "outputs": [
    {
     "data": {
      "text/plain": [
       "'  line 1\\n  line 2\\n  line 3\\n'"
      ]
     },
     "execution_count": 11,
     "metadata": {},
     "output_type": "execute_result"
    }
   ],
   "source": [
    "# three quotes indicate multi line strings\n",
    "'''  line 1\n",
    "  line 2\n",
    "  line 3\n",
    "'''"
   ]
  },
  {
   "cell_type": "code",
   "execution_count": 12,
   "id": "798d0160-b05a-46fa-973f-8dda31441642",
   "metadata": {},
   "outputs": [
    {
     "name": "stdout",
     "output_type": "stream",
     "text": [
      "['m', 'y', 's', 't', 'r', 'i', 'n', 'g']\n"
     ]
    }
   ],
   "source": [
    "# exercise: make inverse of string with base python\n",
    "l = [i for i in s]\n",
    "print(l)"
   ]
  },
  {
   "cell_type": "code",
   "execution_count": 13,
   "id": "0c94bc71-2242-4d82-8175-7ffb39540aff",
   "metadata": {},
   "outputs": [
    {
     "name": "stdout",
     "output_type": "stream",
     "text": [
      "['g', 'n', 'i', 'r', 't', 's', 'y', 'm']\n"
     ]
    }
   ],
   "source": [
    "# typical python: objects can be altered without new assignment\n",
    "# simply by calling a modifiying method like reverse\n",
    "l.reverse()\n",
    "print(l)"
   ]
  },
  {
   "cell_type": "code",
   "execution_count": 14,
   "id": "f3727c1c-53da-40dd-a5e8-f741724650fc",
   "metadata": {},
   "outputs": [
    {
     "data": {
      "text/plain": [
       "'gnirtsym'"
      ]
     },
     "execution_count": 14,
     "metadata": {},
     "output_type": "execute_result"
    }
   ],
   "source": [
    "# paste list of strings together using python\n",
    "''.join(l)"
   ]
  },
  {
   "cell_type": "code",
   "execution_count": 15,
   "id": "9c3b9586-297f-4426-945a-ff0505b4a428",
   "metadata": {},
   "outputs": [
    {
     "data": {
      "text/plain": [
       "'msr'"
      ]
     },
     "execution_count": 15,
     "metadata": {},
     "output_type": "execute_result"
    }
   ],
   "source": [
    "# we can slice strings using the colon syntax: first char, last char, step\n",
    "# this code returns every 2nd char from first to sixth\n",
    "s[0:6:2]"
   ]
  },
  {
   "cell_type": "markdown",
   "id": "fe74ddf3-362e-472a-8129-ddecf5255163",
   "metadata": {},
   "source": [
    "### Booleans\n",
    "\n",
    "Different to R, boolean/logical operators are combined with `and`, `or` and `not`"
   ]
  },
  {
   "cell_type": "code",
   "execution_count": 16,
   "id": "134cd3c5-3776-439a-b457-8848b95202f7",
   "metadata": {},
   "outputs": [
    {
     "data": {
      "text/plain": [
       "False"
      ]
     },
     "execution_count": 16,
     "metadata": {},
     "output_type": "execute_result"
    }
   ],
   "source": [
    "True and False"
   ]
  },
  {
   "cell_type": "code",
   "execution_count": 17,
   "id": "8c1efb6b-dbfe-48ca-ae82-a89206d88abd",
   "metadata": {},
   "outputs": [
    {
     "data": {
      "text/plain": [
       "True"
      ]
     },
     "execution_count": 17,
     "metadata": {},
     "output_type": "execute_result"
    }
   ],
   "source": [
    "True or False"
   ]
  },
  {
   "cell_type": "code",
   "execution_count": 18,
   "id": "6a8b8231-d4fe-4864-a397-3d473eba1baa",
   "metadata": {},
   "outputs": [
    {
     "data": {
      "text/plain": [
       "[False, True, False]"
      ]
     },
     "execution_count": 18,
     "metadata": {},
     "output_type": "execute_result"
    }
   ],
   "source": [
    "l1 = [True, True, False]\n",
    "l2 = [False, True, True]\n",
    "\n",
    "# unlike R, two lists can NOT be pairwise compared\n",
    "# use list comprehension to compare objects pairwise\n",
    "[a and b for a, b in zip(l1, l2)]"
   ]
  },
  {
   "cell_type": "code",
   "execution_count": 19,
   "id": "91e0bb50-983d-46af-9b96-7d0a49e3da23",
   "metadata": {},
   "outputs": [
    {
     "name": "stdout",
     "output_type": "stream",
     "text": [
      "1\n",
      "2\n",
      "1\n"
     ]
    }
   ],
   "source": [
    "# zip combines two lists into a single list of pairs\n",
    "for i in list(zip(l1, l2)):\n",
    "    print(sum(i))"
   ]
  },
  {
   "cell_type": "markdown",
   "id": "898811d6-bec6-4530-bb11-5572eed36358",
   "metadata": {},
   "source": [
    "### Lists and tuples\n",
    "\n",
    "In R, lists can either refer to a simple one dimensional vector of one specific type (`numeric`, `character`).\n",
    "Otherwise lists can be more complex nested objects that hold other arbitrary objects. It's a very important object class in R.\n",
    "A list in python can be similarly nested and also contain different types. However, the concept of several iteratable objects of same type in one single variable is not natural to python.\n",
    "\n",
    "- Lists can hold different variables\n",
    "- Lists are ordered and order can be changed\n",
    "- Lists are indexed and elements can be retrieved by index\n",
    "- Tuples are like lists but immutable once created"
   ]
  },
  {
   "cell_type": "code",
   "execution_count": 20,
   "id": "5dbef7fa-173a-45ec-99e1-d59c57684b5f",
   "metadata": {},
   "outputs": [],
   "source": [
    "l = list()"
   ]
  },
  {
   "cell_type": "code",
   "execution_count": 21,
   "id": "6549c47e-ffd3-4f89-ae03-806355fcaf32",
   "metadata": {},
   "outputs": [
    {
     "name": "stdout",
     "output_type": "stream",
     "text": [
      "['a', 123]\n"
     ]
    }
   ],
   "source": [
    "l.append('a')\n",
    "l.append(123)\n",
    "print(l)"
   ]
  },
  {
   "cell_type": "code",
   "execution_count": 22,
   "id": "da6419f6-07fd-483f-aa61-cec7edc82088",
   "metadata": {},
   "outputs": [
    {
     "name": "stdout",
     "output_type": "stream",
     "text": [
      "['a', 123, [...]]\n",
      "['a', 123, [...]]\n"
     ]
    }
   ],
   "source": [
    "# A list that get's appended to itself nests itself infinitely deep\n",
    "l.append(l)\n",
    "print(l)\n",
    "print(l[2][2][2])"
   ]
  },
  {
   "cell_type": "code",
   "execution_count": 23,
   "id": "b6bbc9de-9de4-4f96-89b6-c6081c2b2078",
   "metadata": {},
   "outputs": [
    {
     "data": {
      "text/plain": [
       "True"
      ]
     },
     "execution_count": 23,
     "metadata": {},
     "output_type": "execute_result"
    }
   ],
   "source": [
    "# short hand vs explicit creation of a tuple\n",
    "tuple([1,2]) == (1, 2)"
   ]
  },
  {
   "cell_type": "code",
   "execution_count": 24,
   "id": "9d6bb09b-5919-4f9e-bd97-9e281d79ee95",
   "metadata": {},
   "outputs": [
    {
     "name": "stdout",
     "output_type": "stream",
     "text": [
      "[(1, 2), (3, 4)]\n",
      "[1, 2, 3, 4]\n"
     ]
    }
   ],
   "source": [
    "# coercing a tuple to a list without and with unpacking\n",
    "a = (1,2)\n",
    "b = (3,4)\n",
    "print([a, b])\n",
    "print([*a, *b])"
   ]
  },
  {
   "cell_type": "code",
   "execution_count": 25,
   "id": "b74a99e0-7c83-453c-80c5-da606d3220ec",
   "metadata": {},
   "outputs": [
    {
     "data": {
      "text/plain": [
       "{1: 3, 2: 4}"
      ]
     },
     "execution_count": 25,
     "metadata": {},
     "output_type": "execute_result"
    }
   ],
   "source": [
    "# coerce two same-length lists or tuples to dict by zipping into name-value pairs\n",
    "dict(zip(a, b))"
   ]
  },
  {
   "cell_type": "code",
   "execution_count": 44,
   "id": "88a2ca24-f0bc-4c50-9a36-3051e5181780",
   "metadata": {},
   "outputs": [
    {
     "data": {
      "text/plain": [
       "(1, 2)"
      ]
     },
     "execution_count": 44,
     "metadata": {},
     "output_type": "execute_result"
    }
   ],
   "source": [
    "# coerce to string, note packed vs unpacked syntax\n",
    "a"
   ]
  },
  {
   "cell_type": "code",
   "execution_count": 38,
   "id": "d960ef0e-18c6-4d01-97df-2366eb636623",
   "metadata": {},
   "outputs": [
    {
     "name": "stdout",
     "output_type": "stream",
     "text": [
      "1\n",
      "2\n"
     ]
    }
   ],
   "source": [
    "# unpacking assignment works with all iterables\n",
    "number1, number2 = a\n",
    "print(number1)\n",
    "print(number2)"
   ]
  },
  {
   "cell_type": "code",
   "execution_count": null,
   "id": "451c6d2a-1790-4b3c-9f99-eb672103309b",
   "metadata": {},
   "outputs": [],
   "source": []
  },
  {
   "cell_type": "markdown",
   "id": "b3c7e282-930d-4d67-b980-5ab37f0941d1",
   "metadata": {},
   "source": [
    "### Functions\n",
    "\n",
    "The workhorse with defined input and output works similar to R.\n",
    "Some differences:\n",
    "\n",
    "- functions in python can alter objects even outside their scope while R functions need re-assignment"
   ]
  },
  {
   "cell_type": "code",
   "execution_count": 26,
   "id": "277579de-e6a5-4383-abab-aedfb8ec199e",
   "metadata": {},
   "outputs": [
    {
     "name": "stdout",
     "output_type": "stream",
     "text": [
      "string sorted\n",
      "['a', 'b', 'c', 'd']\n"
     ]
    }
   ],
   "source": [
    "l = ['a', 'b', 'd', 'c']\n",
    "\n",
    "def sort_list(l):\n",
    "    l.sort()\n",
    "    print('string sorted')\n",
    "\n",
    "# function modifies the input object even without re-assignment\n",
    "sort_list(l)\n",
    "print(l)"
   ]
  },
  {
   "cell_type": "code",
   "execution_count": 27,
   "id": "71d4e7bb-ef85-486f-8f68-9a4ae69341b5",
   "metadata": {},
   "outputs": [
    {
     "name": "stdout",
     "output_type": "stream",
     "text": [
      "(0, 'a')\n",
      "(1, 'b')\n",
      "(2, 'c')\n",
      "(3, 'd')\n"
     ]
    }
   ],
   "source": [
    "# useful function to iterate through a list of defined length\n",
    "for i in enumerate(l):\n",
    "    print(i)"
   ]
  },
  {
   "cell_type": "markdown",
   "id": "af7f1051-d515-42fc-af17-473521566da9",
   "metadata": {},
   "source": [
    "### Classes\n",
    "\n",
    "In python, classes are more commonly used and defined than in R.\n",
    "R has classes too but they are less commonly used because many (existing) objects are simply modified using functions\n",
    "\n",
    "- classes are defined with the variables that they hold and corresponding methods\n",
    "- classes should have an `__init__` function that defines how an instance is created\n",
    "- classed can have more functions that serve as methods for the class\n",
    "- methods that work with classes can either be generic methods ('magic') with double underscore `__len__`\n",
    "- or it can be a method specific for this class `length`\n",
    "- use `dir` function to show what methods are available"
   ]
  },
  {
   "cell_type": "code",
   "execution_count": 28,
   "id": "afe8e0af-2df7-4eb9-bb48-2666d873a2b5",
   "metadata": {},
   "outputs": [
    {
     "data": {
      "text/plain": [
       "['__subclasshook__', '__weakref__', 'add']"
      ]
     },
     "execution_count": 28,
     "metadata": {},
     "output_type": "execute_result"
    }
   ],
   "source": [
    "class Sequence:\n",
    "    def __init__(self, seq, name):\n",
    "        self.seq = seq\n",
    "        self.name = name\n",
    "        self.length = len(seq)\n",
    "    # method that extends seq by arbitrary string and updates length\n",
    "    def add(self, seq_add = str()):\n",
    "        self.seq = self.seq + seq_add\n",
    "        self.length = len(self.seq)\n",
    "\n",
    "# show last three methods of the object\n",
    "dir(Sequence)[-3:]"
   ]
  },
  {
   "cell_type": "code",
   "execution_count": 29,
   "id": "92ba840d-3420-4865-aefa-226a9f06857c",
   "metadata": {},
   "outputs": [
    {
     "name": "stdout",
     "output_type": "stream",
     "text": [
      "someseq ATCGCT 6\n"
     ]
    }
   ],
   "source": [
    "s = Sequence(seq = 'ATCGCT', name = 'someseq')\n",
    "print(s.name, s.seq, s.length)"
   ]
  },
  {
   "cell_type": "code",
   "execution_count": 30,
   "id": "c6d23c28-5c3d-43fd-9b66-c991bd04b3b1",
   "metadata": {},
   "outputs": [
    {
     "name": "stdout",
     "output_type": "stream",
     "text": [
      "someseq ATCGCTGGCCC 11\n"
     ]
    }
   ],
   "source": [
    "s.add('GGCCC')\n",
    "print(s.name, s.seq, s.length)"
   ]
  },
  {
   "cell_type": "code",
   "execution_count": 31,
   "id": "3fca41dd-e877-4c67-a1be-fd98c70b2d6f",
   "metadata": {},
   "outputs": [
    {
     "name": "stdout",
     "output_type": "stream",
     "text": [
      "ATCGCTGGCCC\n"
     ]
    }
   ],
   "source": [
    "s.add()\n",
    "print(s.seq)"
   ]
  },
  {
   "cell_type": "code",
   "execution_count": 32,
   "id": "692579df-dccb-4eb5-a1a1-02fbfc629961",
   "metadata": {},
   "outputs": [],
   "source": [
    "# a new class can inherit from an existing class;\n",
    "# this adds a new function that will rev-com the sequence\n",
    "class RevSeq(Sequence):\n",
    "    def rev_com(self):\n",
    "        new_seq = str()\n",
    "        for i in self.seq:\n",
    "            if i == 'A':\n",
    "                new_seq = new_seq + 'T'\n",
    "            elif i == 'T':\n",
    "                new_seq = new_seq + 'A'\n",
    "            elif i == 'G':\n",
    "                new_seq = new_seq + 'C'\n",
    "            elif i == 'C':\n",
    "                new_seq = new_seq + 'G'\n",
    "        new_seq = [i for i in new_seq]\n",
    "        new_seq.reverse()\n",
    "        self.seq = ''.join(new_seq)"
   ]
  },
  {
   "cell_type": "code",
   "execution_count": 33,
   "id": "6408e7c9-d138-4aff-a520-330b332fa6a6",
   "metadata": {},
   "outputs": [
    {
     "name": "stdout",
     "output_type": "stream",
     "text": [
      "AAAGCT\n"
     ]
    }
   ],
   "source": [
    "rs = RevSeq(seq = 'AGCT', name = 'someseq')\n",
    "rs.add('TT')\n",
    "rs.rev_com()\n",
    "print(rs.seq)"
   ]
  },
  {
   "cell_type": "markdown",
   "id": "4fce81d6-3d33-49e8-9f55-9377c021c135",
   "metadata": {},
   "source": [
    "## Flow control\n",
    "\n",
    "As with R, python has classic loops and if conditions to control the flow of program execution.\n",
    "\n",
    "However there are some differences as explained in the examples below.\n",
    "\n",
    "- `for` loops are much more common in python than R, where one uses `apply` functions to loop over instances\n",
    "- `else` can be used with a for statement too; is evaluated if no `break` command stops loop\n",
    "- `break` statement: `break` leaves current for or while loop\n",
    "- `continue` statement: `continue` directly enters next iteration of the loop"
   ]
  },
  {
   "cell_type": "code",
   "execution_count": 34,
   "id": "7babeabb-d5ad-45b8-87eb-18b4d00bf73a",
   "metadata": {},
   "outputs": [
    {
     "name": "stdout",
     "output_type": "stream",
     "text": [
      "2 is a prime number\n",
      "3 is a prime number\n",
      "4 equals 2 * 2\n",
      "5 is a prime number\n",
      "6 equals 2 * 3\n",
      "7 is a prime number\n",
      "8 equals 2 * 4\n",
      "9 equals 3 * 3\n"
     ]
    }
   ],
   "source": [
    "# the % operator divides x by y and returns\n",
    "for n in range(2, 10):\n",
    "    for x in range(2, n):\n",
    "        if n % x == 0:\n",
    "            print(n, 'equals', x, '*', n//x)\n",
    "            break\n",
    "    else:\n",
    "        # loop fell through without finding a factor\n",
    "        print(n, 'is a prime number')"
   ]
  },
  {
   "cell_type": "code",
   "execution_count": 35,
   "id": "92970203-b39b-44fc-a826-c6972fe8909a",
   "metadata": {},
   "outputs": [
    {
     "name": "stdout",
     "output_type": "stream",
     "text": [
      "Found an even number 2\n"
     ]
    }
   ],
   "source": [
    "for num in range(2, 5):\n",
    "    if num % 2 == 0:\n",
    "        print(\"Found an even number\", num)\n",
    "        break\n",
    "    print(\"Found an odd number\", num)"
   ]
  },
  {
   "cell_type": "code",
   "execution_count": 36,
   "id": "ca8957d6-74d7-4825-a8ba-a9908bb1f72e",
   "metadata": {},
   "outputs": [
    {
     "name": "stdout",
     "output_type": "stream",
     "text": [
      "Found an even number 2\n",
      "Found an odd number 3\n",
      "Found an even number 4\n"
     ]
    }
   ],
   "source": [
    "for num in range(2, 5):\n",
    "    if num % 2 == 0:\n",
    "        print(\"Found an even number\", num)\n",
    "        continue\n",
    "    print(\"Found an odd number\", num)"
   ]
  },
  {
   "cell_type": "code",
   "execution_count": 37,
   "id": "8648a914-3229-4c17-9afb-91c1afbbc06b",
   "metadata": {},
   "outputs": [
    {
     "data": {
      "text/plain": [
       "[1, 2, 3, 5, 8, 13, 21, 34, 55, 89]"
      ]
     },
     "execution_count": 37,
     "metadata": {},
     "output_type": "execute_result"
    }
   ],
   "source": [
    "# home made Fibonacci series\n",
    "def fib(n):\n",
    "    x = 0\n",
    "    y = 1\n",
    "    result = list()\n",
    "    while x+y <= n:\n",
    "        s = x+y\n",
    "        result.append(s)\n",
    "        x = y\n",
    "        y = s\n",
    "    return(result)\n",
    "\n",
    "fib(100)"
   ]
  },
  {
   "cell_type": "code",
   "execution_count": null,
   "id": "2dd541bf-14de-4ecb-b354-0e9e3ff8c7bf",
   "metadata": {},
   "outputs": [],
   "source": []
  }
 ],
 "metadata": {
  "kernelspec": {
   "display_name": "Python 3",
   "language": "python",
   "name": "python3"
  },
  "language_info": {
   "codemirror_mode": {
    "name": "ipython",
    "version": 3
   },
   "file_extension": ".py",
   "mimetype": "text/x-python",
   "name": "python",
   "nbconvert_exporter": "python",
   "pygments_lexer": "ipython3",
   "version": "3.9.7"
  }
 },
 "nbformat": 4,
 "nbformat_minor": 5
}
