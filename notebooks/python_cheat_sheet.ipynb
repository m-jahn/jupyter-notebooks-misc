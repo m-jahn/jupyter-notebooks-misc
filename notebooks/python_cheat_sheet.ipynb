{
 "cells": [
  {
   "cell_type": "markdown",
   "id": "6f0b55c0-45c3-482c-89d8-d18548921248",
   "metadata": {},
   "source": [
    "# Conceptual differences between Python and R\n",
    "\n",
    "Collection of most important objects and methods in python, particularly with regard to differences to R.\n",
    "Also a sort of personal cheat sheet for me coming from R.\n",
    "\n",
    "## Data types\n",
    "\n",
    "### Strings"
   ]
  },
  {
   "cell_type": "code",
   "execution_count": 1,
   "id": "42d40822-b55b-434f-869a-e3124071f684",
   "metadata": {},
   "outputs": [],
   "source": [
    "s = 'mystring'; s2 = 'anotherString'"
   ]
  },
  {
   "cell_type": "code",
   "execution_count": 2,
   "id": "4849322d-9834-49dc-bf2c-5c1a45e1be69",
   "metadata": {},
   "outputs": [
    {
     "data": {
      "text/plain": [
       "'Mystring'"
      ]
     },
     "execution_count": 2,
     "metadata": {},
     "output_type": "execute_result"
    }
   ],
   "source": [
    "s.capitalize()"
   ]
  },
  {
   "cell_type": "code",
   "execution_count": 3,
   "id": "897d6e1e-a379-4789-acec-2671191b8f18",
   "metadata": {},
   "outputs": [
    {
     "data": {
      "text/plain": [
       "'MYSTRING'"
      ]
     },
     "execution_count": 3,
     "metadata": {},
     "output_type": "execute_result"
    }
   ],
   "source": [
    "s.swapcase()"
   ]
  },
  {
   "cell_type": "code",
   "execution_count": 4,
   "id": "f4b92e83-4a8f-4aab-a049-f0f75c09c6f9",
   "metadata": {},
   "outputs": [
    {
     "data": {
      "text/plain": [
       "'MYSTRING'"
      ]
     },
     "execution_count": 4,
     "metadata": {},
     "output_type": "execute_result"
    }
   ],
   "source": [
    "s.upper()"
   ]
  },
  {
   "cell_type": "code",
   "execution_count": 5,
   "id": "c393db5e-fb8e-4b57-9f88-3b6a041c3537",
   "metadata": {},
   "outputs": [
    {
     "data": {
      "text/plain": [
       "'mystring'"
      ]
     },
     "execution_count": 5,
     "metadata": {},
     "output_type": "execute_result"
    }
   ],
   "source": [
    "s.lower()"
   ]
  },
  {
   "cell_type": "code",
   "execution_count": 6,
   "id": "3d83b4a7-0890-4693-b6f3-89d6bbf45073",
   "metadata": {},
   "outputs": [
    {
     "data": {
      "text/plain": [
       "['my', 'ring']"
      ]
     },
     "execution_count": 6,
     "metadata": {},
     "output_type": "execute_result"
    }
   ],
   "source": [
    "s.split('st')"
   ]
  },
  {
   "cell_type": "code",
   "execution_count": 7,
   "id": "2808e1c4-8663-46a8-a95c-a45a250110a4",
   "metadata": {},
   "outputs": [
    {
     "data": {
      "text/plain": [
       "8"
      ]
     },
     "execution_count": 7,
     "metadata": {},
     "output_type": "execute_result"
    }
   ],
   "source": [
    "len(s)"
   ]
  },
  {
   "cell_type": "code",
   "execution_count": 8,
   "id": "f0409d1f-20e3-4466-8b53-bf56142ac346",
   "metadata": {},
   "outputs": [
    {
     "data": {
      "text/plain": [
       "'mystringanotherString'"
      ]
     },
     "execution_count": 8,
     "metadata": {},
     "output_type": "execute_result"
    }
   ],
   "source": [
    "# merge two strings\n",
    "s + s2"
   ]
  },
  {
   "cell_type": "code",
   "execution_count": 9,
   "id": "35435e29-efe0-4e47-97cd-6a04b3008ca5",
   "metadata": {},
   "outputs": [
    {
     "data": {
      "text/plain": [
       "'mystringmystring'"
      ]
     },
     "execution_count": 9,
     "metadata": {},
     "output_type": "execute_result"
    }
   ],
   "source": [
    "# repeat string elements and return new string\n",
    "s * 2"
   ]
  },
  {
   "cell_type": "code",
   "execution_count": 10,
   "id": "22ec60af-d885-4dbc-8592-8ad18873a041",
   "metadata": {},
   "outputs": [
    {
     "data": {
      "text/plain": [
       "'string 1: mystring - string 2: anotherString'"
      ]
     },
     "execution_count": 10,
     "metadata": {},
     "output_type": "execute_result"
    }
   ],
   "source": [
    "# use of format with position placeholders\n",
    "'string 1: {0} - string 2: {1}'.format(s, s2)"
   ]
  },
  {
   "cell_type": "code",
   "execution_count": 11,
   "id": "7edc76f6-b328-44e2-ba04-c2dd3b3569f5",
   "metadata": {},
   "outputs": [
    {
     "data": {
      "text/plain": [
       "'  line 1\\n  line 2\\n  line 3\\n'"
      ]
     },
     "execution_count": 11,
     "metadata": {},
     "output_type": "execute_result"
    }
   ],
   "source": [
    "# three quotes indicate multi line strings\n",
    "'''  line 1\n",
    "  line 2\n",
    "  line 3\n",
    "'''"
   ]
  },
  {
   "cell_type": "code",
   "execution_count": 12,
   "id": "798d0160-b05a-46fa-973f-8dda31441642",
   "metadata": {},
   "outputs": [
    {
     "name": "stdout",
     "output_type": "stream",
     "text": [
      "['m', 'y', 's', 't', 'r', 'i', 'n', 'g']\n"
     ]
    }
   ],
   "source": [
    "# exercise: make inverse of string with base python\n",
    "l = [i for i in s]\n",
    "print(l)"
   ]
  },
  {
   "cell_type": "code",
   "execution_count": 13,
   "id": "0c94bc71-2242-4d82-8175-7ffb39540aff",
   "metadata": {},
   "outputs": [
    {
     "name": "stdout",
     "output_type": "stream",
     "text": [
      "['g', 'n', 'i', 'r', 't', 's', 'y', 'm']\n"
     ]
    }
   ],
   "source": [
    "# typical python: objects can be altered without new assignment\n",
    "# simply by calling a modifiying method like reverse\n",
    "l.reverse()\n",
    "print(l)"
   ]
  },
  {
   "cell_type": "code",
   "execution_count": 14,
   "id": "f3727c1c-53da-40dd-a5e8-f741724650fc",
   "metadata": {},
   "outputs": [
    {
     "data": {
      "text/plain": [
       "'gnirtsym'"
      ]
     },
     "execution_count": 14,
     "metadata": {},
     "output_type": "execute_result"
    }
   ],
   "source": [
    "# paste list of strings together using python\n",
    "''.join(l)"
   ]
  },
  {
   "cell_type": "code",
   "execution_count": 15,
   "id": "9c3b9586-297f-4426-945a-ff0505b4a428",
   "metadata": {},
   "outputs": [
    {
     "data": {
      "text/plain": [
       "'msr'"
      ]
     },
     "execution_count": 15,
     "metadata": {},
     "output_type": "execute_result"
    }
   ],
   "source": [
    "# we can slice strings using the colon syntax: first char, last char, step\n",
    "# this code returns every 2nd char from first to sixth\n",
    "s[0:6:2]"
   ]
  },
  {
   "cell_type": "markdown",
   "id": "fe74ddf3-362e-472a-8129-ddecf5255163",
   "metadata": {},
   "source": [
    "### Booleans\n",
    "\n",
    "Different to R, boolean/logical operators are combined with `and`, `or` and `not`"
   ]
  },
  {
   "cell_type": "code",
   "execution_count": 16,
   "id": "134cd3c5-3776-439a-b457-8848b95202f7",
   "metadata": {},
   "outputs": [
    {
     "data": {
      "text/plain": [
       "False"
      ]
     },
     "execution_count": 16,
     "metadata": {},
     "output_type": "execute_result"
    }
   ],
   "source": [
    "True and False"
   ]
  },
  {
   "cell_type": "code",
   "execution_count": 17,
   "id": "8c1efb6b-dbfe-48ca-ae82-a89206d88abd",
   "metadata": {},
   "outputs": [
    {
     "data": {
      "text/plain": [
       "True"
      ]
     },
     "execution_count": 17,
     "metadata": {},
     "output_type": "execute_result"
    }
   ],
   "source": [
    "True or False"
   ]
  },
  {
   "cell_type": "code",
   "execution_count": 18,
   "id": "6a8b8231-d4fe-4864-a397-3d473eba1baa",
   "metadata": {},
   "outputs": [
    {
     "data": {
      "text/plain": [
       "[False, True, False]"
      ]
     },
     "execution_count": 18,
     "metadata": {},
     "output_type": "execute_result"
    }
   ],
   "source": [
    "l1 = [True, True, False]\n",
    "l2 = [False, True, True]\n",
    "\n",
    "# unlike R, two lists can NOT be pairwise compared\n",
    "# use list comprehension to compare objects pairwise\n",
    "[a and b for a, b in zip(l1, l2)]"
   ]
  },
  {
   "cell_type": "code",
   "execution_count": 19,
   "id": "91e0bb50-983d-46af-9b96-7d0a49e3da23",
   "metadata": {},
   "outputs": [
    {
     "name": "stdout",
     "output_type": "stream",
     "text": [
      "1\n",
      "2\n",
      "1\n"
     ]
    }
   ],
   "source": [
    "# zip combines two lists into a single list of pairs\n",
    "for i in list(zip(l1, l2)):\n",
    "    print(sum(i))"
   ]
  },
  {
   "cell_type": "markdown",
   "id": "898811d6-bec6-4530-bb11-5572eed36358",
   "metadata": {},
   "source": [
    "### Lists and tuples\n",
    "\n",
    "In R, lists can either refer to a simple one dimensional vector of one specific type (`numeric`, `character`).\n",
    "Otherwise lists can be more complex nested objects that hold other arbitrary objects. It's a very important object class in R.\n",
    "A list in python can be similarly nested and also contain different types. However, the concept of several iteratable objects of same type in one single variable is not natural to python.\n",
    "\n",
    "- Lists can hold different variables\n",
    "- Lists are ordered and order can be changed\n",
    "- Lists are indexed and elements can be retrieved by index\n",
    "- Tuples are like lists but immutable once created"
   ]
  },
  {
   "cell_type": "code",
   "execution_count": 20,
   "id": "5dbef7fa-173a-45ec-99e1-d59c57684b5f",
   "metadata": {},
   "outputs": [],
   "source": [
    "l = list()"
   ]
  },
  {
   "cell_type": "code",
   "execution_count": 21,
   "id": "6549c47e-ffd3-4f89-ae03-806355fcaf32",
   "metadata": {},
   "outputs": [
    {
     "name": "stdout",
     "output_type": "stream",
     "text": [
      "['a', 123]\n"
     ]
    }
   ],
   "source": [
    "# add items to list\n",
    "l.append('a')\n",
    "l.append(123)\n",
    "print(l)"
   ]
  },
  {
   "cell_type": "code",
   "execution_count": 22,
   "id": "da6419f6-07fd-483f-aa61-cec7edc82088",
   "metadata": {},
   "outputs": [
    {
     "name": "stdout",
     "output_type": "stream",
     "text": [
      "['a', 123, [...]]\n",
      "['a', 123, [...]]\n"
     ]
    }
   ],
   "source": [
    "# A list that get's appended to itself nests itself infinitely deep\n",
    "l.append(l)\n",
    "print(l)\n",
    "print(l[2][2][2])"
   ]
  },
  {
   "cell_type": "code",
   "execution_count": 23,
   "id": "bba6d49e-3c84-4521-89c4-e46926b41c4c",
   "metadata": {},
   "outputs": [
    {
     "name": "stdout",
     "output_type": "stream",
     "text": [
      "['b', 'd']\n"
     ]
    }
   ],
   "source": [
    "# remove items from list: pop cuts out (retrieves and deletes) and del/rem delete only\n",
    "l = ['a', 'b', 'c', 'd']\n",
    "l.pop(2)\n",
    "l.remove('a')\n",
    "print(l)"
   ]
  },
  {
   "cell_type": "code",
   "execution_count": 24,
   "id": "d4516ae6-84bc-46d6-91b7-9c567c1e690e",
   "metadata": {},
   "outputs": [
    {
     "data": {
      "text/plain": [
       "1"
      ]
     },
     "execution_count": 24,
     "metadata": {},
     "output_type": "execute_result"
    }
   ],
   "source": [
    "# other useful functions: find indices of matching elements\n",
    "l.index('d')"
   ]
  },
  {
   "cell_type": "code",
   "execution_count": 25,
   "id": "df8a845f-a7fe-4dd7-ac3a-c195fb8f3fb3",
   "metadata": {},
   "outputs": [
    {
     "data": {
      "text/plain": [
       "0"
      ]
     },
     "execution_count": 25,
     "metadata": {},
     "output_type": "execute_result"
    }
   ],
   "source": [
    "# count elements in list matching term\n",
    "l.count('c')"
   ]
  },
  {
   "cell_type": "code",
   "execution_count": 26,
   "id": "b6bbc9de-9de4-4f96-89b6-c6081c2b2078",
   "metadata": {},
   "outputs": [
    {
     "data": {
      "text/plain": [
       "True"
      ]
     },
     "execution_count": 26,
     "metadata": {},
     "output_type": "execute_result"
    }
   ],
   "source": [
    "# short hand vs explicit creation of a tuple\n",
    "tuple([1,2]) == (1, 2)"
   ]
  },
  {
   "cell_type": "code",
   "execution_count": 27,
   "id": "9d6bb09b-5919-4f9e-bd97-9e281d79ee95",
   "metadata": {},
   "outputs": [
    {
     "name": "stdout",
     "output_type": "stream",
     "text": [
      "[(1, 2), (3, 4)]\n",
      "[1, 2, 3, 4]\n"
     ]
    }
   ],
   "source": [
    "# coercing a tuple to a list without and with unpacking\n",
    "a = (1,2)\n",
    "b = (3,4)\n",
    "print([a, b])\n",
    "print([*a, *b])"
   ]
  },
  {
   "cell_type": "code",
   "execution_count": 28,
   "id": "b74a99e0-7c83-453c-80c5-da606d3220ec",
   "metadata": {},
   "outputs": [
    {
     "data": {
      "text/plain": [
       "{1: 3, 2: 4}"
      ]
     },
     "execution_count": 28,
     "metadata": {},
     "output_type": "execute_result"
    }
   ],
   "source": [
    "# coerce two same-length lists or tuples to dict by zipping into name-value pairs\n",
    "dict(zip(a, b))"
   ]
  },
  {
   "cell_type": "code",
   "execution_count": 29,
   "id": "88a2ca24-f0bc-4c50-9a36-3051e5181780",
   "metadata": {},
   "outputs": [
    {
     "name": "stdout",
     "output_type": "stream",
     "text": [
      "(1, 2)\n"
     ]
    },
    {
     "data": {
      "text/plain": [
       "['1', '2']"
      ]
     },
     "execution_count": 29,
     "metadata": {},
     "output_type": "execute_result"
    }
   ],
   "source": [
    "# coerce to string, note list of string vs strin of list\n",
    "print(str(a))\n",
    "[str(i) for i in a]"
   ]
  },
  {
   "cell_type": "code",
   "execution_count": 30,
   "id": "d960ef0e-18c6-4d01-97df-2366eb636623",
   "metadata": {},
   "outputs": [
    {
     "name": "stdout",
     "output_type": "stream",
     "text": [
      "1\n",
      "2\n"
     ]
    }
   ],
   "source": [
    "# unpacking assignment works with all iterables\n",
    "number1, number2 = a\n",
    "print(number1)\n",
    "print(number2)"
   ]
  },
  {
   "cell_type": "markdown",
   "id": "d4793cfd-629f-4b30-beda-f5f4f928967e",
   "metadata": {},
   "source": [
    "### Dicts\n",
    "\n",
    "Dictionaries or `dict`s in python store data in key value pairs. Some characteristics of dicts are:\n",
    "\n",
    "- are mutable, but unordered and unindexed\n",
    "- created using curved brackets\n",
    "- can hold different data types"
   ]
  },
  {
   "cell_type": "code",
   "execution_count": 31,
   "id": "2222b558-3880-474c-92c6-6b90d2fe2763",
   "metadata": {},
   "outputs": [],
   "source": [
    "d = {'a': 1, 'b': 2, 1: 'cde'}"
   ]
  },
  {
   "cell_type": "code",
   "execution_count": 32,
   "id": "8316094b-de5e-47ef-a58f-b3d3c9b127da",
   "metadata": {},
   "outputs": [
    {
     "data": {
      "text/plain": [
       "1"
      ]
     },
     "execution_count": 32,
     "metadata": {},
     "output_type": "execute_result"
    }
   ],
   "source": [
    "d['a']"
   ]
  },
  {
   "cell_type": "code",
   "execution_count": 33,
   "id": "fff8cd11-8233-48e1-9c6f-8fbde5344835",
   "metadata": {},
   "outputs": [
    {
     "name": "stdout",
     "output_type": "stream",
     "text": [
      "{'a': 1, 1: 'cde', 'new': 5}\n"
     ]
    }
   ],
   "source": [
    "# add and remove values\n",
    "d['new'] = 5\n",
    "del(d['b'])\n",
    "print(d)"
   ]
  },
  {
   "cell_type": "code",
   "execution_count": 34,
   "id": "8e58beda-6886-4489-960f-c3728964fa0a",
   "metadata": {},
   "outputs": [
    {
     "data": {
      "text/plain": [
       "{'a': 3}"
      ]
     },
     "execution_count": 34,
     "metadata": {},
     "output_type": "execute_result"
    }
   ],
   "source": [
    "# is it possible to have different values with same key? No.\n",
    "{'a': 1, 'a': 3}"
   ]
  },
  {
   "cell_type": "markdown",
   "id": "b3c7e282-930d-4d67-b980-5ab37f0941d1",
   "metadata": {},
   "source": [
    "### Functions\n",
    "\n",
    "The workhorse with defined input and output works similar to R.\n",
    "Some differences:\n",
    "\n",
    "- functions in python can alter objects even outside their scope while R functions need re-assignment"
   ]
  },
  {
   "cell_type": "code",
   "execution_count": 35,
   "id": "277579de-e6a5-4383-abab-aedfb8ec199e",
   "metadata": {},
   "outputs": [
    {
     "name": "stdout",
     "output_type": "stream",
     "text": [
      "string sorted\n",
      "['a', 'b', 'c', 'd']\n"
     ]
    }
   ],
   "source": [
    "l = ['a', 'b', 'd', 'c']\n",
    "\n",
    "def sort_list(l):\n",
    "    l.sort()\n",
    "    print('string sorted')\n",
    "\n",
    "# function modifies the input object even without re-assignment\n",
    "sort_list(l)\n",
    "print(l)"
   ]
  },
  {
   "cell_type": "code",
   "execution_count": 36,
   "id": "71d4e7bb-ef85-486f-8f68-9a4ae69341b5",
   "metadata": {},
   "outputs": [
    {
     "name": "stdout",
     "output_type": "stream",
     "text": [
      "(0, 'a')\n",
      "(1, 'b')\n",
      "(2, 'c')\n",
      "(3, 'd')\n"
     ]
    }
   ],
   "source": [
    "# useful function to iterate through a list of defined length\n",
    "for i in enumerate(l):\n",
    "    print(i)"
   ]
  },
  {
   "cell_type": "code",
   "execution_count": 37,
   "id": "931a49b3-2378-4d3d-bb06-1026acab136c",
   "metadata": {},
   "outputs": [
    {
     "data": {
      "text/plain": [
       "'TestTestTestTestTest'"
      ]
     },
     "execution_count": 37,
     "metadata": {},
     "output_type": "execute_result"
    }
   ],
   "source": [
    "# pass function arguments as dict instead of single values\n",
    "def repeat_str(string, times):\n",
    "    return(string*times)\n",
    "\n",
    "args = {'string': 'Test', 'times': 5}\n",
    "repeat_str(**args)"
   ]
  },
  {
   "cell_type": "code",
   "execution_count": 38,
   "id": "adeeae58-8aa8-46ce-a990-91760a805db1",
   "metadata": {},
   "outputs": [
    {
     "name": "stdout",
     "output_type": "stream",
     "text": [
      "a\n",
      "b\n"
     ]
    }
   ],
   "source": [
    "# function with variable unnamed arguments\n",
    "def var_input(*args):\n",
    "    for i in args:\n",
    "        print(i)\n",
    "\n",
    "inp = ['a', 'b']\n",
    "var_input(*inp)"
   ]
  },
  {
   "cell_type": "code",
   "execution_count": 39,
   "id": "d9a8aa8c-b212-49ae-b452-8f06e3fc882a",
   "metadata": {},
   "outputs": [
    {
     "name": "stdout",
     "output_type": "stream",
     "text": [
      "a 1\n",
      "b 2\n"
     ]
    }
   ],
   "source": [
    "# function with variable keyworded arguments\n",
    "def var_input(**kwargs):\n",
    "    for i, j in kwargs.items():\n",
    "        print(i, j)\n",
    "\n",
    "args = {'a': 1, 'b': 2}\n",
    "var_input(**args)"
   ]
  },
  {
   "cell_type": "markdown",
   "id": "77e7ad10-7470-402e-895a-ba2fdcb0284c",
   "metadata": {},
   "source": [
    "### List comprehensions\n",
    "\n",
    "Not exactly its own type of function but nevertheless a unique and extremely useful tool in python that has no counterpart in R. In R, all lists/vectors are treated as iterables automatically and functions can be applied directly, i.e. without loops."
   ]
  },
  {
   "cell_type": "code",
   "execution_count": 40,
   "id": "b71075a4-518b-4eb0-b5dd-996e7d7dfaa3",
   "metadata": {},
   "outputs": [
    {
     "data": {
      "text/plain": [
       "[False, False, True]"
      ]
     },
     "execution_count": 40,
     "metadata": {},
     "output_type": "execute_result"
    }
   ],
   "source": [
    "# list comprehensions\n",
    "# -------------------\n",
    "a = [1,3,5]\n",
    "b = [2,4,5,7]\n",
    "# to compare lists - works also for different length where the shortest length defines the output\n",
    "[i == j for i, j in zip(a, b)]"
   ]
  },
  {
   "cell_type": "code",
   "execution_count": 41,
   "id": "3f058963-d5d0-4c71-b716-8cd3ea6928d0",
   "metadata": {},
   "outputs": [
    {
     "data": {
      "text/plain": [
       "[False, False, True]"
      ]
     },
     "execution_count": 41,
     "metadata": {},
     "output_type": "execute_result"
    }
   ],
   "source": [
    "# to match the elements of list a to all elements of list b\n",
    "[i in b for i in a]"
   ]
  },
  {
   "cell_type": "code",
   "execution_count": 42,
   "id": "c81d6b28-6977-463f-824a-b135c062fe14",
   "metadata": {},
   "outputs": [
    {
     "data": {
      "text/plain": [
       "[False, False, True, False]"
      ]
     },
     "execution_count": 42,
     "metadata": {},
     "output_type": "execute_result"
    }
   ],
   "source": [
    "# and vice versa\n",
    "[i in a for i in b]"
   ]
  },
  {
   "cell_type": "code",
   "execution_count": 43,
   "id": "41c079ad-ab59-42f9-abff-45f42a7942e3",
   "metadata": {},
   "outputs": [
    {
     "data": {
      "text/plain": [
       "[5, 7]"
      ]
     },
     "execution_count": 43,
     "metadata": {},
     "output_type": "execute_result"
    }
   ],
   "source": [
    "# list comprehension with if condition\n",
    "[i for i in b if i%2 != 0]"
   ]
  },
  {
   "cell_type": "code",
   "execution_count": 44,
   "id": "0f154c27-f256-42bc-8ebb-c7801a10f1eb",
   "metadata": {},
   "outputs": [
    {
     "data": {
      "text/plain": [
       "[(1, 2),\n",
       " (1, 4),\n",
       " (1, 5),\n",
       " (1, 7),\n",
       " (3, 2),\n",
       " (3, 4),\n",
       " (3, 5),\n",
       " (3, 7),\n",
       " (5, 2),\n",
       " (5, 4),\n",
       " (5, 5),\n",
       " (5, 7)]"
      ]
     },
     "execution_count": 44,
     "metadata": {},
     "output_type": "execute_result"
    }
   ],
   "source": [
    "# nested for loop list comprehension\n",
    "[(i,j) for i in a for j in b]"
   ]
  },
  {
   "cell_type": "code",
   "execution_count": 45,
   "id": "a5c740d9-6eab-4f44-97bd-8d6cc3c00a8b",
   "metadata": {},
   "outputs": [
    {
     "data": {
      "text/plain": [
       "[1, 2, 3, 4, 5, 6, 7, 8, 9]"
      ]
     },
     "execution_count": 45,
     "metadata": {},
     "output_type": "execute_result"
    }
   ],
   "source": [
    "# flatten a nested list: in R, simply done using unlist()\n",
    "l = [[1,2,3],[4,5,6],[7,8,9]]\n",
    "[j for i in l for j in i]"
   ]
  },
  {
   "cell_type": "markdown",
   "id": "a0c3bba7-f71b-4032-aef3-5460e3558b00",
   "metadata": {},
   "source": [
    "### Lambda functions\n",
    "\n",
    "- Lambda functions are anonymous functions in Python, that means they are constructed on the fly rather than defined with a name\n",
    "- Lambdas are most useful in combination with the `map` function that applies an anonymous function to an iterable object\n",
    "- the counterpart in R are anonymous functions used in apply constructs like `lapply(my_list, function(x){x^2})`"
   ]
  },
  {
   "cell_type": "code",
   "execution_count": 46,
   "id": "e3de24ce-d3c4-4677-9db2-df6e2fa87e14",
   "metadata": {},
   "outputs": [
    {
     "data": {
      "text/plain": [
       "[1, 9, 25]"
      ]
     },
     "execution_count": 46,
     "metadata": {},
     "output_type": "execute_result"
    }
   ],
   "source": [
    "# lambda with one input list\n",
    "list(map(lambda x : x**2, a))"
   ]
  },
  {
   "cell_type": "code",
   "execution_count": 47,
   "id": "7d4d8442-dbf6-473b-a888-c35cdce1faba",
   "metadata": {},
   "outputs": [
    {
     "data": {
      "text/plain": [
       "[2, 12, 25]"
      ]
     },
     "execution_count": 47,
     "metadata": {},
     "output_type": "execute_result"
    }
   ],
   "source": [
    "# lambda with multiple input lists (shorter list defines output)\n",
    "list(map(lambda x, y : x*y, a, b))"
   ]
  },
  {
   "cell_type": "markdown",
   "id": "af7f1051-d515-42fc-af17-473521566da9",
   "metadata": {
    "tags": []
   },
   "source": [
    "### Classes\n",
    "\n",
    "In python, classes are more commonly used and defined than in R.\n",
    "R has classes too but they are less commonly used because many (existing) objects are simply modified using functions\n",
    "\n",
    "- classes are defined with the variables that they hold and corresponding methods\n",
    "- classes should have an `__init__` function that defines how an instance is created\n",
    "- classed can have more functions that serve as methods for the class\n",
    "- methods that work with classes can either be generic methods ('magic') with double underscore `__len__`\n",
    "- or it can be a method specific for this class `length`\n",
    "- use `dir` function to show what methods are available"
   ]
  },
  {
   "cell_type": "code",
   "execution_count": 48,
   "id": "afe8e0af-2df7-4eb9-bb48-2666d873a2b5",
   "metadata": {
    "tags": []
   },
   "outputs": [
    {
     "data": {
      "text/plain": [
       "['__subclasshook__', '__weakref__', 'add']"
      ]
     },
     "execution_count": 48,
     "metadata": {},
     "output_type": "execute_result"
    }
   ],
   "source": [
    "class Sequence:\n",
    "    def __init__(self, seq, name):\n",
    "        self.seq = seq\n",
    "        self.name = name\n",
    "        self.length = len(seq)\n",
    "    # method that extends seq by arbitrary string and updates length\n",
    "    def add(self, seq_add = str()):\n",
    "        self.seq = self.seq + seq_add\n",
    "        self.length = len(self.seq)\n",
    "\n",
    "# show last three methods of the object\n",
    "dir(Sequence)[-3:]"
   ]
  },
  {
   "cell_type": "code",
   "execution_count": 49,
   "id": "92ba840d-3420-4865-aefa-226a9f06857c",
   "metadata": {
    "tags": []
   },
   "outputs": [
    {
     "name": "stdout",
     "output_type": "stream",
     "text": [
      "someseq ATCGCT 6\n"
     ]
    }
   ],
   "source": [
    "s = Sequence(seq = 'ATCGCT', name = 'someseq')\n",
    "print(s.name, s.seq, s.length)"
   ]
  },
  {
   "cell_type": "code",
   "execution_count": 50,
   "id": "c6d23c28-5c3d-43fd-9b66-c991bd04b3b1",
   "metadata": {
    "tags": []
   },
   "outputs": [
    {
     "name": "stdout",
     "output_type": "stream",
     "text": [
      "someseq ATCGCTGGCCC 11\n"
     ]
    }
   ],
   "source": [
    "s.add('GGCCC')\n",
    "print(s.name, s.seq, s.length)"
   ]
  },
  {
   "cell_type": "code",
   "execution_count": 51,
   "id": "3fca41dd-e877-4c67-a1be-fd98c70b2d6f",
   "metadata": {},
   "outputs": [
    {
     "name": "stdout",
     "output_type": "stream",
     "text": [
      "ATCGCTGGCCC\n"
     ]
    }
   ],
   "source": [
    "s.add()\n",
    "print(s.seq)"
   ]
  },
  {
   "cell_type": "code",
   "execution_count": 52,
   "id": "692579df-dccb-4eb5-a1a1-02fbfc629961",
   "metadata": {},
   "outputs": [],
   "source": [
    "# a new class can inherit from an existing class;\n",
    "# this adds a new function that will rev-com the sequence\n",
    "class RevSeq(Sequence):\n",
    "    def rev_com(self):\n",
    "        new_seq = str()\n",
    "        for i in self.seq:\n",
    "            if i == 'A':\n",
    "                new_seq = new_seq + 'T'\n",
    "            elif i == 'T':\n",
    "                new_seq = new_seq + 'A'\n",
    "            elif i == 'G':\n",
    "                new_seq = new_seq + 'C'\n",
    "            elif i == 'C':\n",
    "                new_seq = new_seq + 'G'\n",
    "        new_seq = [i for i in new_seq]\n",
    "        new_seq.reverse()\n",
    "        self.seq = ''.join(new_seq)"
   ]
  },
  {
   "cell_type": "code",
   "execution_count": 53,
   "id": "6408e7c9-d138-4aff-a520-330b332fa6a6",
   "metadata": {},
   "outputs": [
    {
     "name": "stdout",
     "output_type": "stream",
     "text": [
      "AAAGCT\n"
     ]
    }
   ],
   "source": [
    "rs = RevSeq(seq = 'AGCT', name = 'someseq')\n",
    "rs.add('TT')\n",
    "rs.rev_com()\n",
    "print(rs.seq)"
   ]
  },
  {
   "cell_type": "markdown",
   "id": "4fce81d6-3d33-49e8-9f55-9377c021c135",
   "metadata": {},
   "source": [
    "## Flow control\n",
    "\n",
    "As with R, python has classic loops and if conditions to control the flow of program execution.\n",
    "\n",
    "However there are some differences as explained in the examples below.\n",
    "\n",
    "- `for` loops are much more common in python than R, where one uses `apply` functions to loop over instances\n",
    "- `else` can be used with a for statement too; is evaluated if no `break` command stops loop\n",
    "- `break` statement: `break` leaves current for or while loop\n",
    "- `continue` statement: `continue` directly enters next iteration of the loop"
   ]
  },
  {
   "cell_type": "code",
   "execution_count": 54,
   "id": "7babeabb-d5ad-45b8-87eb-18b4d00bf73a",
   "metadata": {},
   "outputs": [
    {
     "name": "stdout",
     "output_type": "stream",
     "text": [
      "2 is a prime number\n",
      "3 is a prime number\n",
      "4 equals 2 * 2\n",
      "5 is a prime number\n",
      "6 equals 2 * 3\n",
      "7 is a prime number\n",
      "8 equals 2 * 4\n",
      "9 equals 3 * 3\n"
     ]
    }
   ],
   "source": [
    "# the % operator divides x by y and returns\n",
    "for n in range(2, 10):\n",
    "    for x in range(2, n):\n",
    "        if n % x == 0:\n",
    "            print(n, 'equals', x, '*', n//x)\n",
    "            break\n",
    "    else:\n",
    "        # loop fell through without finding a factor\n",
    "        print(n, 'is a prime number')"
   ]
  },
  {
   "cell_type": "code",
   "execution_count": 55,
   "id": "92970203-b39b-44fc-a826-c6972fe8909a",
   "metadata": {},
   "outputs": [
    {
     "name": "stdout",
     "output_type": "stream",
     "text": [
      "Found an even number 2\n"
     ]
    }
   ],
   "source": [
    "for num in range(2, 5):\n",
    "    if num % 2 == 0:\n",
    "        print(\"Found an even number\", num)\n",
    "        break\n",
    "    print(\"Found an odd number\", num)"
   ]
  },
  {
   "cell_type": "code",
   "execution_count": 56,
   "id": "ca8957d6-74d7-4825-a8ba-a9908bb1f72e",
   "metadata": {},
   "outputs": [
    {
     "name": "stdout",
     "output_type": "stream",
     "text": [
      "Found an even number 2\n",
      "Found an odd number 3\n",
      "Found an even number 4\n"
     ]
    }
   ],
   "source": [
    "for num in range(2, 5):\n",
    "    if num % 2 == 0:\n",
    "        print(\"Found an even number\", num)\n",
    "        continue\n",
    "    print(\"Found an odd number\", num)"
   ]
  },
  {
   "cell_type": "code",
   "execution_count": 57,
   "id": "8648a914-3229-4c17-9afb-91c1afbbc06b",
   "metadata": {},
   "outputs": [
    {
     "data": {
      "text/plain": [
       "[1, 2, 3, 5, 8, 13, 21, 34, 55, 89]"
      ]
     },
     "execution_count": 57,
     "metadata": {},
     "output_type": "execute_result"
    }
   ],
   "source": [
    "# home made Fibonacci series\n",
    "def fib(n):\n",
    "    x = 0\n",
    "    y = 1\n",
    "    result = list()\n",
    "    while x+y <= n:\n",
    "        s = x+y\n",
    "        result.append(s)\n",
    "        x = y\n",
    "        y = s\n",
    "    return(result)\n",
    "\n",
    "fib(100)"
   ]
  },
  {
   "cell_type": "markdown",
   "id": "0d6a5b5d-3cbb-4ea8-8769-6dfc605fe33e",
   "metadata": {},
   "source": [
    "## Input / output\n",
    "\n",
    "Standardized data formats can be imported using dedicated packages like `pandas`.\n",
    "However for raw import of data python has a simple framework for accessing files from hard drive etc.\n",
    "\n",
    "- open a file as a connection using `open`\n",
    "- read or write to the file\n",
    "- close it again\n",
    "- use one of these `mode`s for working with the a file\n",
    "    - `r` - open for reading (default)\n",
    "    - `w` - open for writing, truncating the file first\n",
    "    - `x` - create a new file and open it for writing\n",
    "    - `a` - open for writing, appending to the end of the file if it "
   ]
  },
  {
   "cell_type": "code",
   "execution_count": 58,
   "id": "f0ec1715-1c1e-40e2-bf03-97d64e87f402",
   "metadata": {},
   "outputs": [],
   "source": [
    "# create and write to a new file\n",
    "with open('test.txt', 'x') as f:\n",
    "    f.write('this is a test file\\nsecond line\\nthird line')"
   ]
  },
  {
   "cell_type": "code",
   "execution_count": 59,
   "id": "c18773a1-2584-4983-a382-be89a068375b",
   "metadata": {},
   "outputs": [
    {
     "name": "stdout",
     "output_type": "stream",
     "text": [
      "this is a test file\n",
      "second line\n",
      "third line\n"
     ]
    }
   ],
   "source": [
    "# read a file as one single string\n",
    "with open('test.txt', 'r') as f:\n",
    "    ftext = f.read()\n",
    "\n",
    "print(ftext)"
   ]
  },
  {
   "cell_type": "code",
   "execution_count": 60,
   "id": "125ee1b7-fe37-4e2b-9afc-9c71a4336db0",
   "metadata": {},
   "outputs": [
    {
     "name": "stdout",
     "output_type": "stream",
     "text": [
      "['this is a test file\\n', 'second line\\n', 'third line']\n"
     ]
    }
   ],
   "source": [
    "# read a file line by line\n",
    "with open('test.txt', 'r') as f:\n",
    "    ftext = f.readlines()\n",
    "\n",
    "print(ftext)"
   ]
  },
  {
   "cell_type": "code",
   "execution_count": 61,
   "id": "764d4b6a-bedf-4a34-afac-0a44ab2a771f",
   "metadata": {},
   "outputs": [],
   "source": [
    "# remove text file at the end\n",
    "import os\n",
    "os.remove('test.txt')"
   ]
  },
  {
   "cell_type": "code",
   "execution_count": 62,
   "id": "67748446-bd8a-47f4-853e-32f591a536ed",
   "metadata": {},
   "outputs": [
    {
     "name": "stdout",
     "output_type": "stream",
     "text": [
      "1\n"
     ]
    }
   ],
   "source": [
    "count = 0\n",
    "count += 1\n",
    "print(count)"
   ]
  },
  {
   "cell_type": "markdown",
   "id": "3770b7f1-9533-4486-a5a9-43304a690333",
   "metadata": {},
   "source": [
    "## Error handling\n",
    "\n",
    "To be added."
   ]
  },
  {
   "cell_type": "code",
   "execution_count": 63,
   "id": "ea952213-fed0-49d5-9dbb-e99978fd4634",
   "metadata": {},
   "outputs": [
    {
     "name": "stdout",
     "output_type": "stream",
     "text": [
      "I/O Error: [Errno 2] No such file or directory: 'not_here.txt'\n"
     ]
    }
   ],
   "source": [
    "try:\n",
    "    # Open file in read-only mode\n",
    "    with open(\"not_here.txt\", 'r') as f:\n",
    "        f.write(\"Hello World!\")\n",
    "except IOError as e:\n",
    "    print(\"I/O Error:\", e)"
   ]
  },
  {
   "cell_type": "markdown",
   "id": "83f32ce6-f277-4272-b17e-e9effcd6f64e",
   "metadata": {},
   "source": [
    "## Useful shorthands\n",
    "\n",
    "Python has a lot of really neat features that serve as shorthands for more complicated expressions."
   ]
  },
  {
   "cell_type": "code",
   "execution_count": 64,
   "id": "21a3cdd2-2c1c-4804-b08f-c6ae72b30f53",
   "metadata": {},
   "outputs": [
    {
     "data": {
      "text/plain": [
       "1"
      ]
     },
     "execution_count": 64,
     "metadata": {},
     "output_type": "execute_result"
    }
   ],
   "source": [
    "# the % operator returns the remainder of a division\n",
    "10 % 3"
   ]
  },
  {
   "cell_type": "code",
   "execution_count": 65,
   "id": "925517f6-283a-457b-b9e0-2c687784bd80",
   "metadata": {},
   "outputs": [
    {
     "name": "stdout",
     "output_type": "stream",
     "text": [
      "1\n"
     ]
    }
   ],
   "source": [
    "# the += assingment means count up by one, shorthand for a = a + 1\n",
    "count = 0\n",
    "count += 1\n",
    "print(count)"
   ]
  },
  {
   "cell_type": "markdown",
   "id": "f6403b94-daf6-47cc-b61d-d871c492c6d1",
   "metadata": {},
   "source": [
    "## Exercises\n",
    "\n",
    "Some exercises for functions using only basic python.\n",
    "\n",
    "- simple sort algorithm\n",
    "- bubble sort algorithm\n",
    "- DNA k-mer sequence combinations"
   ]
  },
  {
   "cell_type": "code",
   "execution_count": 66,
   "id": "56ed8b82-888d-4ab7-8bca-70b50a437f18",
   "metadata": {},
   "outputs": [],
   "source": [
    "l = [4,7,2,3,8,4,2,1]\n",
    "\n",
    "def simple_sort(lst):\n",
    "    new_lst = []\n",
    "    while len(lst) > 0:\n",
    "        pos = lst.index(min(lst))\n",
    "        new_lst.append(lst.pop(pos))\n",
    "    return(new_lst)"
   ]
  },
  {
   "cell_type": "code",
   "execution_count": 67,
   "id": "756c4973-e70c-40a4-89f9-5917102f0eac",
   "metadata": {},
   "outputs": [
    {
     "data": {
      "text/plain": [
       "[1, 2, 2, 3, 4, 4, 7, 8]"
      ]
     },
     "execution_count": 67,
     "metadata": {},
     "output_type": "execute_result"
    }
   ],
   "source": [
    "simple_sort(l)"
   ]
  },
  {
   "cell_type": "code",
   "execution_count": 68,
   "id": "e8c69b6c-4ba8-4e3a-ba5e-61e63da5e7c3",
   "metadata": {},
   "outputs": [
    {
     "data": {
      "text/plain": [
       "[1, 2, 2, 3, 4, 4, 7, 8]"
      ]
     },
     "execution_count": 68,
     "metadata": {},
     "output_type": "execute_result"
    }
   ],
   "source": [
    "l = [4,7,2,3,8,4,2,1]\n",
    "\n",
    "def bubble_sort(lst):\n",
    "    list_sorted = False\n",
    "    while not list_sorted:\n",
    "        list_sorted = True\n",
    "        for i,j in enumerate(lst):\n",
    "            if i < len(lst)-1:\n",
    "                if lst[i+1] < j:\n",
    "                    lst[i] = lst[i+1]\n",
    "                    lst[i+1] = j\n",
    "                    list_sorted = False\n",
    "    return(lst)\n",
    "\n",
    "bubble_sort(l)"
   ]
  },
  {
   "cell_type": "markdown",
   "id": "9124f873-2a8f-41f9-9855-e595876c36e1",
   "metadata": {},
   "source": [
    "- Function to calculate all possible sequences of a DNA k-mer"
   ]
  },
  {
   "cell_type": "code",
   "execution_count": 69,
   "id": "e8f929d5-2088-432c-b6de-ae4dca006005",
   "metadata": {},
   "outputs": [
    {
     "name": "stdout",
     "output_type": "stream",
     "text": [
      "256\n",
      "['AAAA', 'AAAT', 'AAAC', 'AAAG', 'AATA', 'AATT', 'AATC', 'AATG', 'AACA', 'AACT']\n"
     ]
    }
   ],
   "source": [
    "def DNA_comb(seq_len):\n",
    "    count = 1\n",
    "    result = ['A', 'T', 'C', 'G']\n",
    "    while count < seq_len:\n",
    "        result = [i+j for i in result for j in ['A', 'T', 'C', 'G']]\n",
    "        count += 1\n",
    "    return(result)\n",
    "\n",
    "print(len(DNA_comb(seq_len = 4)))\n",
    "print(DNA_comb(seq_len = 4)[0:10])"
   ]
  }
 ],
 "metadata": {
  "kernelspec": {
   "display_name": "Python 3",
   "language": "python",
   "name": "python3"
  },
  "language_info": {
   "codemirror_mode": {
    "name": "ipython",
    "version": 3
   },
   "file_extension": ".py",
   "mimetype": "text/x-python",
   "name": "python",
   "nbconvert_exporter": "python",
   "pygments_lexer": "ipython3",
   "version": "3.9.7"
  }
 },
 "nbformat": 4,
 "nbformat_minor": 5
}
